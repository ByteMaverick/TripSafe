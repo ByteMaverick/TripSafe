{
 "cells": [
  {
   "cell_type": "markdown",
   "id": "f4ee1c61-7ae7-46b5-abd3-7c2f250b2180",
   "metadata": {},
   "source": "# Model Tranning"
  },
  {
   "cell_type": "code",
   "id": "1e587df2-5c9f-4e30-a3cb-f846fe501659",
   "metadata": {
    "tags": [],
    "ExecuteTime": {
     "end_time": "2025-08-04T13:50:59.584696Z",
     "start_time": "2025-08-04T13:50:56.503490Z"
    }
   },
   "source": [
    "# Import the required  Dependencies\n",
    "import pandas as pd\n",
    "import matplotlib.pyplot as plt\n",
    "\n",
    "# Load the dataset\n",
    "full_df = pd.read_csv(\"../data/TripSafe_cleaned_Data.csv\")\n",
    "sample_df = pd.read_csv(\"../data/sample_TripSafe_cleaned_Data.csv\")\n",
    "\n",
    "# Removing extra columns\n",
    "lst = [\"Unnamed: 0\",\"Zipcode\"]\n",
    "full_df = full_df.drop(lst, axis=1)\n",
    "\n",
    "\n",
    "# Zipcode_Group_, City_ hold great importance\n",
    "# Removing more columns, after a bit of running these columns have no impact on model_development performance\n",
    "full_df = full_df.drop(columns=[col for col in full_df.columns if col.startswith(\"Weather_Condition_\")])\n",
    "full_df = full_df.drop(columns=[col for col in full_df.columns if col.startswith(\"Wind_Direction_\")])\n",
    "full_df = full_df.drop(columns=['Severity'])\n",
    "sample_df = sample_df.drop(columns=[col for col in sample_df.columns if col.startswith(\"Weather_Condition_\")])\n",
    "sample_df = sample_df.drop(columns=[col for col in sample_df.columns if col.startswith(\"Wind_Direction_\")])\n",
    "sample_df = sample_df.drop(columns=['Severity'])\n",
    "\n",
    "\n",
    "# Loading sample data\n",
    "sample_df = sample_df.drop(lst,axis=1)\n",
    "sample_df = sample_df.sample(n=10000,random_state=42)\n",
    "\n",
    "\n",
    "print(full_df.shape)\n",
    "print(sample_df.shape)\n"
   ],
   "outputs": [
    {
     "name": "stdout",
     "output_type": "stream",
     "text": [
      "(1160100, 79)\n",
      "(10000, 79)\n"
     ]
    }
   ],
   "execution_count": 2
  },
  {
   "metadata": {
    "ExecuteTime": {
     "end_time": "2025-08-04T13:50:59.603168Z",
     "start_time": "2025-08-04T13:50:59.599857Z"
    }
   },
   "cell_type": "code",
   "source": "full_df.dtypes",
   "id": "d9140070e0bf6cdc",
   "outputs": [
    {
     "data": {
      "text/plain": [
       "Temperature(F)         float64\n",
       "Humidity(%)            float64\n",
       "Pressure(in)           float64\n",
       "Visibility(mi)         float64\n",
       "Wind_Speed(mph)        float64\n",
       "                        ...   \n",
       "Zipcode_Group_956        int64\n",
       "Zipcode_Group_958        int64\n",
       "Zipcode_Group_959        int64\n",
       "Zipcode_Group_Other      int64\n",
       "Cluster                  int64\n",
       "Length: 79, dtype: object"
      ]
     },
     "execution_count": 3,
     "metadata": {},
     "output_type": "execute_result"
    }
   ],
   "execution_count": 3
  },
  {
   "metadata": {
    "ExecuteTime": {
     "end_time": "2025-08-04T13:50:59.751743Z",
     "start_time": "2025-08-04T13:50:59.624548Z"
    }
   },
   "cell_type": "code",
   "source": [
    "from backend.src.input_processing.date_data_extraction import DataExtractor\n",
    "f = DataExtractor()\n",
    "\n",
    "d =DataExtractor()\n",
    "k =d.get_transformed_data(\"02/02/2016, 12:34\",\"san Jose\",\"santa clara\",\"95377\")\n",
    "for p in k.columns:\n",
    "    print(p)\n"
   ],
   "id": "6b8abab412720d50",
   "outputs": [
    {
     "name": "stdout",
     "output_type": "stream",
     "text": [
      "   day_of_week  Hour  Month  Is_Holiday  Is_Rush_Hour  Temperature(F)  \\\n",
      "0            0     3      8           0             0            72.0   \n",
      "\n",
      "   Humidity(%)  Pressure(in)  Visibility(mi)  Wind_Speed(mph)  Wind_Chill(F)  \\\n",
      "0           50         29.92              10                5           70.0   \n",
      "\n",
      "   Precipitation(in)  City_san Jose  County_santa clara  Zipcode_Group_953  \n",
      "0                0.0           True                True               True  \n",
      "(1, 78)\n",
      "   Temperature(F)  Humidity(%)  Pressure(in)  Visibility(mi)  Wind_Speed(mph)  \\\n",
      "0             0.0          0.0           0.0             0.0              0.0   \n",
      "\n",
      "   Wind_Chill(F)  Precipitation(in)  Hour  day_of_week  Month  ...  \\\n",
      "0            0.0                0.0   0.0            0      8  ...   \n",
      "\n",
      "   Zipcode_Group_946  Zipcode_Group_950  Zipcode_Group_951  Zipcode_Group_952  \\\n",
      "0                  0                  0                  0                  0   \n",
      "\n",
      "   Zipcode_Group_953  Zipcode_Group_954  Zipcode_Group_956  Zipcode_Group_958  \\\n",
      "0               True                  0                  0                  0   \n",
      "\n",
      "   Zipcode_Group_959  Zipcode_Group_Other  \n",
      "0                  0                    0  \n",
      "\n",
      "[1 rows x 78 columns]\n",
      "   day_of_week  Hour  Month  Is_Holiday  Is_Rush_Hour  Temperature(F)  \\\n",
      "0            1    12      2           0             0            72.0   \n",
      "\n",
      "   Humidity(%)  Pressure(in)  Visibility(mi)  Wind_Speed(mph)  Wind_Chill(F)  \\\n",
      "0           50         29.92              10                5           70.0   \n",
      "\n",
      "   Precipitation(in)  City_san Jose  County_santa clara  Zipcode_Group_953  \n",
      "0                0.0           True                True               True  \n",
      "(1, 78)\n",
      "Temperature(F)\n",
      "Humidity(%)\n",
      "Pressure(in)\n",
      "Visibility(mi)\n",
      "Wind_Speed(mph)\n",
      "Wind_Chill(F)\n",
      "Precipitation(in)\n",
      "Hour\n",
      "day_of_week\n",
      "Month\n",
      "Is_Holiday\n",
      "Is_Rush_Hour\n",
      "City_Anaheim\n",
      "City_Bakersfield\n",
      "City_Fresno\n",
      "City_Long Beach\n",
      "City_Los Angeles\n",
      "City_Oakland\n",
      "City_Ontario\n",
      "City_Other\n",
      "City_Riverside\n",
      "City_Sacramento\n",
      "City_San Bernardino\n",
      "City_San Diego\n",
      "City_San Francisco\n",
      "City_San Jose\n",
      "County_Alameda\n",
      "County_Contra Costa\n",
      "County_Fresno\n",
      "County_Kern\n",
      "County_Los Angeles\n",
      "County_Monterey\n",
      "County_Orange\n",
      "County_Other\n",
      "County_Riverside\n",
      "County_Sacramento\n",
      "County_San Bernardino\n",
      "County_San Diego\n",
      "County_San Francisco\n",
      "County_San Joaquin\n",
      "County_San Mateo\n",
      "County_Santa Clara\n",
      "County_Solano\n",
      "County_Sonoma\n",
      "County_Stanislaus\n",
      "County_Tulare\n",
      "County_Ventura\n",
      "Zipcode_Group_900\n",
      "Zipcode_Group_902\n",
      "Zipcode_Group_906\n",
      "Zipcode_Group_907\n",
      "Zipcode_Group_913\n",
      "Zipcode_Group_917\n",
      "Zipcode_Group_920\n",
      "Zipcode_Group_921\n",
      "Zipcode_Group_923\n",
      "Zipcode_Group_924\n",
      "Zipcode_Group_925\n",
      "Zipcode_Group_926\n",
      "Zipcode_Group_928\n",
      "Zipcode_Group_930\n",
      "Zipcode_Group_932\n",
      "Zipcode_Group_933\n",
      "Zipcode_Group_935\n",
      "Zipcode_Group_936\n",
      "Zipcode_Group_937\n",
      "Zipcode_Group_940\n",
      "Zipcode_Group_945\n",
      "Zipcode_Group_946\n",
      "Zipcode_Group_950\n",
      "Zipcode_Group_951\n",
      "Zipcode_Group_952\n",
      "Zipcode_Group_953\n",
      "Zipcode_Group_954\n",
      "Zipcode_Group_956\n",
      "Zipcode_Group_958\n",
      "Zipcode_Group_959\n",
      "Zipcode_Group_Other\n"
     ]
    }
   ],
   "execution_count": 4
  },
  {
   "cell_type": "code",
   "id": "e1b93343-6696-41f3-9907-b6e4e91383f5",
   "metadata": {
    "tags": [],
    "ExecuteTime": {
     "end_time": "2025-08-04T13:50:59.955782Z",
     "start_time": "2025-08-04T13:50:59.777818Z"
    }
   },
   "source": [
    "# Import the Required  Dependencies\n",
    "from sklearn.decomposition import PCA\n",
    "from sklearn.model_selection import train_test_split\n",
    "import numpy as np\n",
    "\n",
    "# Preparation for training and feature selection \n",
    "X = sample_df.drop(\"Cluster\",axis= 1)\n",
    "y = sample_df[\"Cluster\"]\n",
    "\n",
    "\n",
    "# Principal Component Analysis - Is a way to shrink the dimensionality of the dataset\n",
    "# PCA allows us to keep the most relevant feature only, we can either explicitly  mention the number of columns we want to keep or  give it percentage preserve the variance\n",
    "\n",
    "\n",
    "#Splitng the data in test and train \n",
    "X_train, X_test, y_train, y_test = train_test_split(X,y,test_size= 0.2,random_state= 30)\n",
    "\n",
    "\n",
    "# Find the best percentage of data to keep while reducing the number of features\n",
    "\n",
    "variance_list = [0.80,0.85,0.90,0.95,0.96,0.98,0.99]\n",
    "\n",
    "for variance in variance_list:\n",
    "    pca = PCA(variance)\n",
    "    X_train_pca = pca.fit_transform(X_train)\n",
    "    print(f\"Components with {int(variance * 100)}% variance: {X_train_pca.shape[1]}\")\n",
    "    \n",
    "# Keeping 98% percent of the variance\n",
    "pca = PCA(0.98)\n",
    "X_train_pca = pca.fit_transform(X_train)\n",
    "X_test_pca = pca.transform(X_test)\n",
    "\n",
    "plt.plot(np.cumsum(pca.explained_variance_ratio_))\n",
    "plt.xlabel('Number of Components')\n",
    "plt.ylabel('Cumulative Explained Variance')\n",
    "plt.title('PCA - Explained Variance')\n",
    "plt.axhline(y=0.98, color='r', linestyle='--', label='98% threshold')\n",
    "plt.grid(True)\n",
    "plt.legend()\n",
    "plt.show()\n",
    " "
   ],
   "outputs": [
    {
     "name": "stdout",
     "output_type": "stream",
     "text": [
      "Components with 80% variance: 5\n",
      "Components with 85% variance: 6\n",
      "Components with 90% variance: 9\n",
      "Components with 95% variance: 14\n",
      "Components with 96% variance: 17\n",
      "Components with 98% variance: 27\n",
      "Components with 99% variance: 37\n"
     ]
    },
    {
     "data": {
      "text/plain": [
       "<Figure size 640x480 with 1 Axes>"
      ],
      "image/png": "[encoded data removed]"
     },
     "metadata": {},
     "output_type": "display_data"
    }
   ],
   "execution_count": 5
  },
  {
   "cell_type": "code",
   "id": "8dd0543e-b442-4c07-8783-cc41a506058f",
   "metadata": {
    "tags": [],
    "ExecuteTime": {
     "end_time": "2025-08-04T13:51:19.576154Z",
     "start_time": "2025-08-04T13:51:00.073501Z"
    }
   },
   "source": [
    "# Import the Required  Dependencies\n",
    "from sklearn.model_selection import train_test_split, GridSearchCV,KFold,cross_val_score\n",
    "from sklearn.ensemble import RandomForestClassifier\n",
    "from sklearn.linear_model import LogisticRegression\n",
    "from sklearn import svm\n",
    "from sklearn.metrics import log_loss, classification_report\n",
    "\n",
    "# Selecting Parameter for GridSearchCV\n",
    "model_prams = {\n",
    "    \"svm\": {\n",
    "        'model_development': svm.SVC(probability=True),\n",
    "        'params':{\n",
    "             'C': [ 0.01, 0.1,1]\n",
    "        }  \n",
    "    },\n",
    "    \"randomForest\":{\n",
    "        'model_development': RandomForestClassifier(),\n",
    "        'params':{\n",
    "            'n_estimators': [10,20,50],\n",
    "            'max_depth':[4,8,15]\n",
    "        }\n",
    "    },\n",
    "    \n",
    "    \"logistic_regression\":{\n",
    "        'model_development': LogisticRegression(max_iter= 1000),\n",
    "        'params': {\n",
    "             'C': [ 0.01, 0.1,1]\n",
    "        }\n",
    "    }\n",
    "}\n",
    "\n",
    "scores =[]\n",
    "best_estimators = {}\n",
    "for algo, mp in model_prams.items():\n",
    "    print(f\"Training: {algo}\")\n",
    "    \n",
    "    clf = GridSearchCV(mp[\"model_development\"],mp[\"params\"],cv=5, n_jobs=-1,return_train_score=True,  scoring='neg_log_loss')\n",
    "    model =clf.fit(X_train,y_train)\n",
    "    best_estimators[algo] = clf.best_estimator_\n",
    "    \n",
    "    \n",
    "    \n",
    "    y_pred = clf.predict(X_test)\n",
    "    \n",
    "    y_proba_train = clf.predict_proba(X_train)\n",
    "    y_proba_test = clf.predict_proba(X_test)\n",
    "    \n",
    "    \n",
    "    train_loss =log_loss(y_train,y_proba_train)\n",
    "    test_loss =log_loss(y_test,y_proba_test)\n",
    "    \n",
    "    \n",
    "    print(f\"\\n=== {algo.upper()} ===\")\n",
    "    print(f\"Best Params: {clf.best_params_}\")\n",
    "    print(f\"Best Params Train Loss:{train_loss}\")\n",
    "    print(f\"Best Params Test Loss: {test_loss}\")\n",
    "    print(\"Classification Report:\")\n",
    "    print(classification_report(y_test, y_pred))\n",
    "    \n",
    "   \n",
    "    # Loss\n",
    "    # Extract and convert to actual (positive) loss\n",
    "    train_losses = -clf.cv_results_['mean_train_score']\n",
    "    test_losses = -clf.cv_results_['mean_test_score']\n",
    "    params = clf.cv_results_['params']\n",
    "\n",
    "    \n",
    "    for i in range(len(params)):\n",
    "         print(f\"Params: {params[i]}\")\n",
    "         print(f\"→ Train Loss: {train_losses[i]:.4f}, Test Loss: {test_losses[i]:.4f}\\n\")\n"
   ],
   "outputs": [
    {
     "name": "stdout",
     "output_type": "stream",
     "text": [
      "Training: svm\n",
      "\n",
      "=== SVM ===\n",
      "Best Params: {'C': 1}\n",
      "Best Params Train Loss:0.08708390699584467\n",
      "Best Params Test Loss: 0.10811244098572959\n",
      "Classification Report:\n",
      "              precision    recall  f1-score   support\n",
      "\n",
      "           0       0.98      0.97      0.97       666\n",
      "           1       0.94      1.00      0.97       681\n",
      "           2       0.97      0.92      0.94       653\n",
      "\n",
      "    accuracy                           0.96      2000\n",
      "   macro avg       0.96      0.96      0.96      2000\n",
      "weighted avg       0.96      0.96      0.96      2000\n",
      "\n",
      "Params: {'C': 0.01}\n",
      "→ Train Loss: 0.7284, Test Loss: 0.7436\n",
      "\n",
      "Params: {'C': 0.1}\n",
      "→ Train Loss: 0.2546, Test Loss: 0.2633\n",
      "\n",
      "Params: {'C': 1}\n",
      "→ Train Loss: 0.0908, Test Loss: 0.0984\n",
      "\n",
      "Training: randomForest\n",
      "\n",
      "=== RANDOMFOREST ===\n",
      "Best Params: {'max_depth': 15, 'n_estimators': 20}\n",
      "Best Params Train Loss:0.12162215321406711\n",
      "Best Params Test Loss: 0.14335103888823256\n",
      "Classification Report:\n",
      "              precision    recall  f1-score   support\n",
      "\n",
      "           0       0.98      1.00      0.99       666\n",
      "           1       0.95      1.00      0.97       681\n",
      "           2       1.00      0.92      0.96       653\n",
      "\n",
      "    accuracy                           0.97      2000\n",
      "   macro avg       0.98      0.97      0.97      2000\n",
      "weighted avg       0.98      0.97      0.97      2000\n",
      "\n",
      "Params: {'max_depth': 4, 'n_estimators': 10}\n",
      "→ Train Loss: 0.6065, Test Loss: 0.6102\n",
      "\n",
      "Params: {'max_depth': 4, 'n_estimators': 20}\n",
      "→ Train Loss: 0.5819, Test Loss: 0.5837\n",
      "\n",
      "Params: {'max_depth': 4, 'n_estimators': 50}\n",
      "→ Train Loss: 0.5984, Test Loss: 0.6011\n",
      "\n",
      "Params: {'max_depth': 8, 'n_estimators': 10}\n",
      "→ Train Loss: 0.3793, Test Loss: 0.3854\n",
      "\n",
      "Params: {'max_depth': 8, 'n_estimators': 20}\n",
      "→ Train Loss: 0.3743, Test Loss: 0.3806\n",
      "\n",
      "Params: {'max_depth': 8, 'n_estimators': 50}\n",
      "→ Train Loss: 0.3527, Test Loss: 0.3572\n",
      "\n",
      "Params: {'max_depth': 15, 'n_estimators': 10}\n",
      "→ Train Loss: 0.1414, Test Loss: 0.1586\n",
      "\n",
      "Params: {'max_depth': 15, 'n_estimators': 20}\n",
      "→ Train Loss: 0.1352, Test Loss: 0.1540\n",
      "\n",
      "Params: {'max_depth': 15, 'n_estimators': 50}\n",
      "→ Train Loss: 0.1361, Test Loss: 0.1557\n",
      "\n",
      "Training: logistic_regression\n",
      "\n",
      "=== LOGISTIC_REGRESSION ===\n",
      "Best Params: {'C': 1}\n",
      "Best Params Train Loss:0.048733181052054826\n",
      "Best Params Test Loss: 0.05496742029728368\n",
      "Classification Report:\n",
      "              precision    recall  f1-score   support\n",
      "\n",
      "           0       0.98      1.00      0.99       666\n",
      "           1       0.95      1.00      0.97       681\n",
      "           2       1.00      0.93      0.96       653\n",
      "\n",
      "    accuracy                           0.98      2000\n",
      "   macro avg       0.98      0.98      0.98      2000\n",
      "weighted avg       0.98      0.98      0.98      2000\n",
      "\n",
      "Params: {'C': 0.01}\n",
      "→ Train Loss: 0.2880, Test Loss: 0.2905\n",
      "\n",
      "Params: {'C': 0.1}\n",
      "→ Train Loss: 0.1002, Test Loss: 0.1019\n",
      "\n",
      "Params: {'C': 1}\n",
      "→ Train Loss: 0.0504, Test Loss: 0.0528\n",
      "\n"
     ]
    }
   ],
   "execution_count": 6
  },
  {
   "cell_type": "code",
   "id": "5e24e868-d884-48f4-8e12-a469c65a35a5",
   "metadata": {
    "tags": [],
    "ExecuteTime": {
     "end_time": "2025-08-04T13:51:19.654391Z",
     "start_time": "2025-08-04T13:51:19.599791Z"
    }
   },
   "source": [
    "# Import the required  Dependencies\n",
    "from sklearn.metrics import confusion_matrix\n",
    "import seaborn as sns\n",
    "import matplotlib.pyplot as plt\n",
    "\n",
    "# Drawing Confusing Matrix\n",
    "best_clf = best_estimators['randomForest']\n",
    "cm = confusion_matrix(y_test, best_clf.predict(X_test))\n",
    "\n",
    "# Plot\n",
    "plt.figure(figsize = (10,7))\n",
    "sns.heatmap(cm,annot= True)\n",
    "plt.xlabel('Predicted')\n",
    "plt.ylabel('Actual')\n",
    "plt.title('Confusion Matrix - Logistic Regression')\n",
    "\n",
    "\n",
    "cm"
   ],
   "outputs": [
    {
     "data": {
      "text/plain": [
       "array([[666,   0,   0],\n",
       "       [  0, 681,   0],\n",
       "       [ 11,  39, 603]])"
      ]
     },
     "execution_count": 7,
     "metadata": {},
     "output_type": "execute_result"
    },
    {
     "data": {
      "text/plain": [
       "<Figure size 1000x700 with 2 Axes>"
      ],
      "image/png": "[encoded data removed]"
     },
     "metadata": {},
     "output_type": "display_data"
    }
   ],
   "execution_count": 7
  },
  {
   "cell_type": "code",
   "id": "02ffee86-5329-4194-adcd-cbaeaa4819f0",
   "metadata": {
    "tags": [],
    "ExecuteTime": {
     "end_time": "2025-08-04T13:52:45.684432Z",
     "start_time": "2025-08-04T13:51:19.701440Z"
    }
   },
   "source": [
    "import joblib\n",
    "\n",
    "X_final = full_df.drop(\"Cluster\",axis= 1)\n",
    "y_final  = full_df[\"Cluster\"]\n",
    "\n",
    "#Splitng the data in test and train \n",
    "X_train, X_test, y_train, y_test = train_test_split(X_final,y_final,test_size= 0.2,random_state= 30)\n",
    "\n",
    "# Keeping 98% percent of the variance\n",
    "pca = PCA(0.98)\n",
    "X_train_pca = pca.fit_transform(X_train)\n",
    "X_test_pca = pca.transform(X_test)\n",
    "\n",
    "# Saving the pca model for live inference\n",
    "joblib.dump(pca, \"../models/pca_transformer.pkl\")\n",
    "\n",
    "# Initialize logistic regression model_development\n",
    "model = best_estimators['logistic_regression']\n",
    "\n",
    "# Define 5-fold cross-validation\n",
    "kfold = KFold(n_splits=5, shuffle=True, random_state=42)\n",
    "\n",
    "# Evaluate using cross-validation\n",
    "scores = cross_val_score(model, X_train_pca, y_train, cv=kfold, scoring='accuracy')\n",
    "\n",
    "# Print scores\n",
    "print(\"Cross-validated scores:\", scores)\n",
    "print(\"Mean accuracy:\", scores.mean())\n",
    "\n",
    "# Now train on full training set and evaluate on test set\n",
    "model.fit(X_train_pca, y_train)\n",
    "\n",
    "y_pred_test = model.predict(X_test_pca)\n",
    "y_pred_train = model.predict(X_train_pca)\n",
    "\n",
    "# Classification report Test\n",
    "print(\"\\nClassification Report Test Set :\\n\", classification_report(y_test, y_pred_test))\n",
    "\n",
    "# Classification report Test\n",
    "print(\"\\nClassification Report Train Set :\\n\", classification_report(y_train, y_pred_train))\n",
    "\n",
    "\n"
   ],
   "outputs": [
    {
     "name": "stdout",
     "output_type": "stream",
     "text": [
      "Cross-validated scores: [0.95918994 0.95889902 0.96008426 0.95846802 0.95646388]\n",
      "Mean accuracy: 0.9586210240496509\n",
      "\n",
      "Classification Report Test Set :\n",
      "               precision    recall  f1-score   support\n",
      "\n",
      "           0       0.98      0.99      0.98     77158\n",
      "           1       0.94      0.98      0.96     77709\n",
      "           2       0.97      0.92      0.94     77153\n",
      "\n",
      "    accuracy                           0.96    232020\n",
      "   macro avg       0.96      0.96      0.96    232020\n",
      "weighted avg       0.96      0.96      0.96    232020\n",
      "\n",
      "\n",
      "Classification Report Train Set :\n",
      "               precision    recall  f1-score   support\n",
      "\n",
      "           0       0.98      0.99      0.98    309542\n",
      "           1       0.94      0.98      0.96    308991\n",
      "           2       0.97      0.92      0.94    309547\n",
      "\n",
      "    accuracy                           0.96    928080\n",
      "   macro avg       0.96      0.96      0.96    928080\n",
      "weighted avg       0.96      0.96      0.96    928080\n",
      "\n"
     ]
    }
   ],
   "execution_count": 8
  },
  {
   "cell_type": "code",
   "id": "91f33cec-3579-4a82-9a9e-f26582a59131",
   "metadata": {
    "tags": [],
    "ExecuteTime": {
     "end_time": "2025-08-04T13:52:45.785159Z",
     "start_time": "2025-08-04T13:52:45.715770Z"
    }
   },
   "source": [
    "# Drawing Confusing Matrix\n",
    "\n",
    "cm = confusion_matrix(y_test, model.predict(X_test_pca))\n",
    "\n",
    "# Plot\n",
    "plt.figure(figsize = (10,7))\n",
    "sns.heatmap(cm,annot= True)\n",
    "plt.xlabel('Predicted')\n",
    "plt.ylabel('Actual')\n",
    "plt.title('Confusion Matrix - Logistic Regression')\n",
    "\n",
    "cm\n"
   ],
   "outputs": [
    {
     "data": {
      "text/plain": [
       "array([[76153,     3,  1002],\n",
       "       [    0, 76257,  1452],\n",
       "       [ 1466,  4855, 70832]])"
      ]
     },
     "execution_count": 9,
     "metadata": {},
     "output_type": "execute_result"
    },
    {
     "data": {
      "text/plain": [
       "<Figure size 1000x700 with 2 Axes>"
      ],
      "image/png": "[encoded data removed]"
     },
     "metadata": {},
     "output_type": "display_data"
    }
   ],
   "execution_count": 9
  },
  {
   "cell_type": "code",
   "id": "468a51c4-809c-4cea-bfaf-ac243d60b23b",
   "metadata": {
    "tags": [],
    "ExecuteTime": {
     "end_time": "2025-08-04T13:52:45.826141Z",
     "start_time": "2025-08-04T13:52:45.823205Z"
    }
   },
   "source": [
    "# Saving Model \n",
    "import joblib \n",
    "joblib.dump(model, \"../models/model_version_5.pk1\")"
   ],
   "outputs": [
    {
     "data": {
      "text/plain": [
       "['../models/model_version_4.pk1']"
      ]
     },
     "execution_count": 10,
     "metadata": {},
     "output_type": "execute_result"
    }
   ],
   "execution_count": 10
  }
 ],
 "metadata": {
  "environment": {
   "kernel": "python3",
   "name": "tf2-gpu.2-17.m128",
   "type": "gcloud",
   "uri": "us-docker.pkg.dev/deeplearning-platform-release/gcr.io/tf2-gpu.2-17:m128"
  },
  "kernelspec": {
   "display_name": "Python 3",
   "language": "python",
   "name": "python3"
  },
  "language_info": {
   "codemirror_mode": {
    "name": "ipython",
    "version": 3
   },
   "file_extension": ".py",
   "mimetype": "text/x-python",
   "name": "python",
   "nbconvert_exporter": "python",
   "pygments_lexer": "ipython3",
   "version": "3.10.16"
  }
 },
 "nbformat": 4,
 "nbformat_minor": 5
}
