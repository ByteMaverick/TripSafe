{
 "cells": [
  {
   "cell_type": "markdown",
   "id": "3985060a-5b89-4c35-b6ac-94dbd7a7d43a",
   "metadata": {
    "tags": []
   },
   "source": "# TripSafe - Data Preprocessing on Python"
  },
  {
   "cell_type": "code",
   "id": "1bb9a5f6-f21a-4846-9a69-011af2dec1ee",
   "metadata": {
    "tags": [],
    "ExecuteTime": {
     "end_time": "2025-08-04T13:42:09.641058Z",
     "start_time": "2025-08-04T13:41:43.592433Z"
    }
   },
   "source": [
    "# Load All Dependencies\n",
    "import pandas as pd\n",
    "import seaborn as sns\n",
    "import matplotlib.pyplot as plt\n",
    "\n",
    "# Load Raw Dataset\n",
    "raw_dataset = pd.read_csv(\"../data/US_Accidents.csv\")\n",
    "\n",
    "# Bash processed Dataset\n",
    "filtered_df = pd.read_csv(\"../data/CA_Accidents.csv\")\n",
    "\n",
    "# Shape of the Raw Dataset\n",
    "print(raw_dataset.shape)\n",
    "\n",
    "# Shape of the Bash processed Dataset\n",
    "print(filtered_df.shape)"
   ],
   "outputs": [
    {
     "name": "stdout",
     "output_type": "stream",
     "text": [
      "(7728394, 46)\n",
      "(1708282, 46)\n"
     ]
    }
   ],
   "execution_count": 1
  },
  {
   "cell_type": "code",
   "id": "27c08fd5-19c7-4167-9dfa-e2b6f33380a4",
   "metadata": {
    "tags": [],
    "ExecuteTime": {
     "end_time": "2025-08-04T13:42:10.573865Z",
     "start_time": "2025-08-04T13:42:09.761208Z"
    }
   },
   "source": [
    "# Plot for Presentation and Report  \n",
    "state_counts = raw_dataset['State'].value_counts().head(20).reset_index()\n",
    "state_counts.columns = ['State', 'Count']\n",
    "\n",
    "# Barplot\n",
    "sns.barplot(data=state_counts, x='State', y='Count', palette='mako')\n",
    "plt.title(\"Number of Data Points per State\",fontweight='bold',color='#b94832')\n",
    "plt.xlabel(\"Top 20 State\",fontweight='bold',color='#b94832')\n",
    "plt.ylabel(\"Number of Datapoints\",fontweight='bold',color='#b94832')\n",
    "plt.tight_layout()\n",
    "plt.show()\n",
    "\n",
    "# Delete the raw_dataset from memory \n",
    "del raw_dataset"
   ],
   "outputs": [
    {
     "name": "stderr",
     "output_type": "stream",
     "text": [
      "/var/folders/m8/x0f9131s0bnfbnqp15hmpbpw0000gn/T/ipykernel_19763/3265390985.py:6: FutureWarning: \n",
      "\n",
      "Passing `palette` without assigning `hue` is deprecated and will be removed in v0.14.0. Assign the `x` variable to `hue` and set `legend=False` for the same effect.\n",
      "\n",
      "  sns.barplot(data=state_counts, x='State', y='Count', palette='mako')\n"
     ]
    },
    {
     "data": {
      "text/plain": [
       "<Figure size 640x480 with 1 Axes>"
      ],
      "image/png": "[encoded data removed]"
     },
     "metadata": {},
     "output_type": "display_data"
    }
   ],
   "execution_count": 2
  },
  {
   "cell_type": "code",
   "id": "bb2dad54-8fad-425d-a9a6-3c4ea5275737",
   "metadata": {
    "tags": [],
    "ExecuteTime": {
     "end_time": "2025-08-04T13:42:10.723531Z",
     "start_time": "2025-08-04T13:42:10.589380Z"
    }
   },
   "source": [
    "# Print All the Columns\n",
    "print(filtered_df.columns)\n",
    "\n",
    "# Pick Relevant Columns, remove columns you are 100% sure are useless\n",
    "lst =['Source','Start_Lat',\n",
    "       'Start_Lng', 'End_Lat', 'End_Lng','Description', 'Airport_Code','Amenity',\n",
    "       'Bump', 'Crossing', 'Give_Way', 'Junction', 'No_Exit', 'Railway',\n",
    "       'Roundabout', 'Station', 'Stop', 'Traffic_Calming', 'Traffic_Signal',\n",
    "       'Turning_Loop', 'Sunrise_Sunset', 'Civil_Twilight', 'Nautical_Twilight',\n",
    "       'Astronomical_Twilight',\"ID\",\"Country\",\"Street\",\"Timezone\",\"Weather_Timestamp\",\"State\"]\n",
    "\n",
    "# Dropping Irrelevant Columns\n",
    "filtered_df = filtered_df.drop(lst, axis =1 )\n",
    "\n",
    "# Shape and Columns \n",
    "print(filtered_df.shape)\n",
    "filtered_df.columns"
   ],
   "outputs": [
    {
     "name": "stdout",
     "output_type": "stream",
     "text": [
      "Index(['ID', 'Source', 'Severity', 'Start_Time', 'End_Time', 'Start_Lat',\n",
      "       'Start_Lng', 'End_Lat', 'End_Lng', 'Distance(mi)', 'Description',\n",
      "       'Street', 'City', 'County', 'State', 'Zipcode', 'Country', 'Timezone',\n",
      "       'Airport_Code', 'Weather_Timestamp', 'Temperature(F)', 'Wind_Chill(F)',\n",
      "       'Humidity(%)', 'Pressure(in)', 'Visibility(mi)', 'Wind_Direction',\n",
      "       'Wind_Speed(mph)', 'Precipitation(in)', 'Weather_Condition', 'Amenity',\n",
      "       'Bump', 'Crossing', 'Give_Way', 'Junction', 'No_Exit', 'Railway',\n",
      "       'Roundabout', 'Station', 'Stop', 'Traffic_Calming', 'Traffic_Signal',\n",
      "       'Turning_Loop', 'Sunrise_Sunset', 'Civil_Twilight', 'Nautical_Twilight',\n",
      "       'Astronomical_Twilight'],\n",
      "      dtype='object')\n",
      "(1708282, 16)\n"
     ]
    },
    {
     "data": {
      "text/plain": [
       "Index(['Severity', 'Start_Time', 'End_Time', 'Distance(mi)', 'City', 'County',\n",
       "       'Zipcode', 'Temperature(F)', 'Wind_Chill(F)', 'Humidity(%)',\n",
       "       'Pressure(in)', 'Visibility(mi)', 'Wind_Direction', 'Wind_Speed(mph)',\n",
       "       'Precipitation(in)', 'Weather_Condition'],\n",
       "      dtype='object')"
      ]
     },
     "execution_count": 3,
     "metadata": {},
     "output_type": "execute_result"
    }
   ],
   "execution_count": 3
  },
  {
   "cell_type": "code",
   "id": "c1c3913e-0d2a-4de0-baf5-ef75fa70ef7d",
   "metadata": {
    "tags": [],
    "ExecuteTime": {
     "end_time": "2025-08-04T13:42:11.105792Z",
     "start_time": "2025-08-04T13:42:10.731241Z"
    }
   },
   "source": [
    "# Analyse \n",
    "\n",
    "# Basic Stats\n",
    "print(\"Basic Stats\")\n",
    "print(filtered_df.describe())\n",
    "\n",
    "# Value Counts\n",
    "print(\"\\n Value Counts\")\n",
    "print(filtered_df.isnull().sum())\n",
    "      \n",
    "# Print fist 5 Columns\n",
    "filtered_df.head(5)"
   ],
   "outputs": [
    {
     "name": "stdout",
     "output_type": "stream",
     "text": [
      "Basic Stats\n",
      "           Severity  Distance(mi)  Temperature(F)  Wind_Chill(F)  \\\n",
      "count  1.708282e+06  1.708282e+06    1.695464e+06   1.230468e+06   \n",
      "mean   2.165614e+00  4.821000e-01    6.390045e+01   6.275976e+01   \n",
      "std    4.061400e-01  1.346038e+00    1.359120e+01   1.459514e+01   \n",
      "min    1.000000e+00  0.000000e+00   -2.990000e+01  -2.800000e+01   \n",
      "25%    2.000000e+00  0.000000e+00    5.500000e+01   5.400000e+01   \n",
      "50%    2.000000e+00  2.400000e-02    6.300000e+01   6.200000e+01   \n",
      "75%    2.000000e+00  4.330000e-01    7.200000e+01   7.200000e+01   \n",
      "max    4.000000e+00  2.272100e+02    2.070000e+02   2.070000e+02   \n",
      "\n",
      "        Humidity(%)  Pressure(in)  Visibility(mi)  Wind_Speed(mph)  \\\n",
      "count  1.693092e+06  1.704306e+06    1.701308e+06     1.578542e+06   \n",
      "mean   5.871381e+01  2.963127e+01    9.089184e+00     6.550965e+00   \n",
      "std    2.421471e+01  7.762523e-01    2.521921e+00     5.700134e+00   \n",
      "min    1.000000e+00  3.000000e-01    0.000000e+00     0.000000e+00   \n",
      "25%    4.000000e+01  2.962000e+01    1.000000e+01     3.000000e+00   \n",
      "50%    6.100000e+01  2.986000e+01    1.000000e+01     6.000000e+00   \n",
      "75%    7.800000e+01  2.999000e+01    1.000000e+01     9.200000e+00   \n",
      "max    1.000000e+02  5.839000e+01    1.400000e+02     1.087000e+03   \n",
      "\n",
      "       Precipitation(in)  \n",
      "count       1.175057e+06  \n",
      "mean        4.074730e-03  \n",
      "std         3.669762e-02  \n",
      "min         0.000000e+00  \n",
      "25%         0.000000e+00  \n",
      "50%         0.000000e+00  \n",
      "75%         0.000000e+00  \n",
      "max         2.400000e+01  \n",
      "\n",
      " Value Counts\n",
      "Severity                  0\n",
      "Start_Time                0\n",
      "End_Time                  0\n",
      "Distance(mi)              0\n",
      "City                     11\n",
      "County                    0\n",
      "Zipcode                   0\n",
      "Temperature(F)        12818\n",
      "Wind_Chill(F)        477814\n",
      "Humidity(%)           15190\n",
      "Pressure(in)           3976\n",
      "Visibility(mi)         6974\n",
      "Wind_Direction        13211\n",
      "Wind_Speed(mph)      129740\n",
      "Precipitation(in)    533225\n",
      "Weather_Condition      6628\n",
      "dtype: int64\n"
     ]
    },
    {
     "data": {
      "text/plain": [
       "   Severity           Start_Time             End_Time  Distance(mi)  \\\n",
       "0         3  2016-06-21 10:34:40  2016-06-21 11:04:40           0.0   \n",
       "1         3  2016-06-21 10:30:16  2016-06-21 11:16:39           0.0   \n",
       "2         2  2016-06-21 10:49:14  2016-06-21 11:19:14           0.0   \n",
       "3         3  2016-06-21 10:41:42  2016-06-21 11:11:42           0.0   \n",
       "4         2  2016-06-21 10:16:26  2016-06-21 11:04:16           0.0   \n",
       "\n",
       "           City        County Zipcode  Temperature(F)  Wind_Chill(F)  \\\n",
       "0       Vallejo        Solano   94591            75.0            NaN   \n",
       "1       Hayward       Alameda   94544            75.0            NaN   \n",
       "2  Walnut Creek  Contra Costa   94595            82.9            NaN   \n",
       "3     Cupertino   Santa Clara   95014            75.9            NaN   \n",
       "4      San Jose   Santa Clara   95118            75.2            NaN   \n",
       "\n",
       "   Humidity(%)  Pressure(in)  Visibility(mi) Wind_Direction  Wind_Speed(mph)  \\\n",
       "0         48.0         30.00            10.0       Variable              5.8   \n",
       "1         48.0         30.06            10.0            WSW              4.6   \n",
       "2         31.0         29.97            10.0            NNW              4.6   \n",
       "3         48.0         30.04            10.0            NNE              4.6   \n",
       "4         41.0         30.06            10.0       Variable              5.8   \n",
       "\n",
       "   Precipitation(in) Weather_Condition  \n",
       "0                NaN             Clear  \n",
       "1                NaN             Clear  \n",
       "2                NaN             Clear  \n",
       "3                NaN             Clear  \n",
       "4                NaN             Clear  "
      ],
      "text/html": [
       "<div>\n",
       "<style scoped>\n",
       "    .dataframe tbody tr th:only-of-type {\n",
       "        vertical-align: middle;\n",
       "    }\n",
       "\n",
       "    .dataframe tbody tr th {\n",
       "        vertical-align: top;\n",
       "    }\n",
       "\n",
       "    .dataframe thead th {\n",
       "        text-align: right;\n",
       "    }\n",
       "</style>\n",
       "<table border=\"1\" class=\"dataframe\">\n",
       "  <thead>\n",
       "    <tr style=\"text-align: right;\">\n",
       "      <th></th>\n",
       "      <th>Severity</th>\n",
       "      <th>Start_Time</th>\n",
       "      <th>End_Time</th>\n",
       "      <th>Distance(mi)</th>\n",
       "      <th>City</th>\n",
       "      <th>County</th>\n",
       "      <th>Zipcode</th>\n",
       "      <th>Temperature(F)</th>\n",
       "      <th>Wind_Chill(F)</th>\n",
       "      <th>Humidity(%)</th>\n",
       "      <th>Pressure(in)</th>\n",
       "      <th>Visibility(mi)</th>\n",
       "      <th>Wind_Direction</th>\n",
       "      <th>Wind_Speed(mph)</th>\n",
       "      <th>Precipitation(in)</th>\n",
       "      <th>Weather_Condition</th>\n",
       "    </tr>\n",
       "  </thead>\n",
       "  <tbody>\n",
       "    <tr>\n",
       "      <th>0</th>\n",
       "      <td>3</td>\n",
       "      <td>2016-06-21 10:34:40</td>\n",
       "      <td>2016-06-21 11:04:40</td>\n",
       "      <td>0.0</td>\n",
       "      <td>Vallejo</td>\n",
       "      <td>Solano</td>\n",
       "      <td>94591</td>\n",
       "      <td>75.0</td>\n",
       "      <td>NaN</td>\n",
       "      <td>48.0</td>\n",
       "      <td>30.00</td>\n",
       "      <td>10.0</td>\n",
       "      <td>Variable</td>\n",
       "      <td>5.8</td>\n",
       "      <td>NaN</td>\n",
       "      <td>Clear</td>\n",
       "    </tr>\n",
       "    <tr>\n",
       "      <th>1</th>\n",
       "      <td>3</td>\n",
       "      <td>2016-06-21 10:30:16</td>\n",
       "      <td>2016-06-21 11:16:39</td>\n",
       "      <td>0.0</td>\n",
       "      <td>Hayward</td>\n",
       "      <td>Alameda</td>\n",
       "      <td>94544</td>\n",
       "      <td>75.0</td>\n",
       "      <td>NaN</td>\n",
       "      <td>48.0</td>\n",
       "      <td>30.06</td>\n",
       "      <td>10.0</td>\n",
       "      <td>WSW</td>\n",
       "      <td>4.6</td>\n",
       "      <td>NaN</td>\n",
       "      <td>Clear</td>\n",
       "    </tr>\n",
       "    <tr>\n",
       "      <th>2</th>\n",
       "      <td>2</td>\n",
       "      <td>2016-06-21 10:49:14</td>\n",
       "      <td>2016-06-21 11:19:14</td>\n",
       "      <td>0.0</td>\n",
       "      <td>Walnut Creek</td>\n",
       "      <td>Contra Costa</td>\n",
       "      <td>94595</td>\n",
       "      <td>82.9</td>\n",
       "      <td>NaN</td>\n",
       "      <td>31.0</td>\n",
       "      <td>29.97</td>\n",
       "      <td>10.0</td>\n",
       "      <td>NNW</td>\n",
       "      <td>4.6</td>\n",
       "      <td>NaN</td>\n",
       "      <td>Clear</td>\n",
       "    </tr>\n",
       "    <tr>\n",
       "      <th>3</th>\n",
       "      <td>3</td>\n",
       "      <td>2016-06-21 10:41:42</td>\n",
       "      <td>2016-06-21 11:11:42</td>\n",
       "      <td>0.0</td>\n",
       "      <td>Cupertino</td>\n",
       "      <td>Santa Clara</td>\n",
       "      <td>95014</td>\n",
       "      <td>75.9</td>\n",
       "      <td>NaN</td>\n",
       "      <td>48.0</td>\n",
       "      <td>30.04</td>\n",
       "      <td>10.0</td>\n",
       "      <td>NNE</td>\n",
       "      <td>4.6</td>\n",
       "      <td>NaN</td>\n",
       "      <td>Clear</td>\n",
       "    </tr>\n",
       "    <tr>\n",
       "      <th>4</th>\n",
       "      <td>2</td>\n",
       "      <td>2016-06-21 10:16:26</td>\n",
       "      <td>2016-06-21 11:04:16</td>\n",
       "      <td>0.0</td>\n",
       "      <td>San Jose</td>\n",
       "      <td>Santa Clara</td>\n",
       "      <td>95118</td>\n",
       "      <td>75.2</td>\n",
       "      <td>NaN</td>\n",
       "      <td>41.0</td>\n",
       "      <td>30.06</td>\n",
       "      <td>10.0</td>\n",
       "      <td>Variable</td>\n",
       "      <td>5.8</td>\n",
       "      <td>NaN</td>\n",
       "      <td>Clear</td>\n",
       "    </tr>\n",
       "  </tbody>\n",
       "</table>\n",
       "</div>"
      ]
     },
     "execution_count": 4,
     "metadata": {},
     "output_type": "execute_result"
    }
   ],
   "execution_count": 4
  },
  {
   "cell_type": "code",
   "id": "98f8976b-e20a-46f6-b847-6867cc54c8bb",
   "metadata": {
    "tags": [],
    "ExecuteTime": {
     "end_time": "2025-08-04T13:42:12.080385Z",
     "start_time": "2025-08-04T13:42:11.126960Z"
    }
   },
   "source": [
    "# Remove Duplicates\n",
    "# Bash Command - tail -n +2 CA_Accidents.csv | sort | uniq -d | wc -l incadate zero duplicated.\n",
    "# When drop_duplicates used 24598 found and removed\n",
    " \n",
    "pre_removal = filtered_df.shape\n",
    "print(f\"Shape Before Duplicate Removal:{filtered_df.shape}\")\n",
    "\n",
    "filtered_df.drop_duplicates(inplace=True)\n",
    "\n",
    "print(f\"Shape After Duplicate Removal:{filtered_df.shape}\")\n",
    "print(f\"Duplicates Removed: {pre_removal[0] -filtered_df.shape[0]} \")"
   ],
   "outputs": [
    {
     "name": "stdout",
     "output_type": "stream",
     "text": [
      "Shape Before Duplicate Removal:(1708282, 16)\n",
      "Shape After Duplicate Removal:(1683684, 16)\n",
      "Duplicates Removed: 24598 \n"
     ]
    }
   ],
   "execution_count": 5
  },
  {
   "cell_type": "code",
   "id": "391d6efa-d2c5-4a9e-b254-4a2fcd63fb7e",
   "metadata": {
    "tags": [],
    "ExecuteTime": {
     "end_time": "2025-08-04T13:42:12.310305Z",
     "start_time": "2025-08-04T13:42:12.099776Z"
    }
   },
   "source": [
    "# Plot for Presentation and Report \n",
    "# Calculate missing values\n",
    "missing = filtered_df.isnull().sum()\n",
    "\n",
    "missing = missing[missing > 0].sort_values(ascending=False)\n",
    "\n",
    "# Convert to DataFrame for seaborn\n",
    "missing_df = missing.reset_index()\n",
    "missing_df.columns = ['Column', 'Missing Count']\n",
    "\n",
    "# Plot\n",
    "plt.figure(figsize=(7, 5))\n",
    "sns.barplot(data=missing_df, x='Column', y='Missing Count', palette='mako')\n",
    "\n",
    "plt.title(\"Missing Values per Column\", fontweight='bold', color='#b94832')\n",
    "plt.xlabel(\"Column\", fontweight='bold', color='#b94832')\n",
    "plt.ylabel(\"Number of Missing Values\", fontweight='bold', color='#b94832')\n",
    "plt.xticks(rotation=45, ha='right')\n",
    "plt.tight_layout()\n",
    "plt.show()"
   ],
   "outputs": [
    {
     "name": "stderr",
     "output_type": "stream",
     "text": [
      "/var/folders/m8/x0f9131s0bnfbnqp15hmpbpw0000gn/T/ipykernel_19763/1311752365.py:13: FutureWarning: \n",
      "\n",
      "Passing `palette` without assigning `hue` is deprecated and will be removed in v0.14.0. Assign the `x` variable to `hue` and set `legend=False` for the same effect.\n",
      "\n",
      "  sns.barplot(data=missing_df, x='Column', y='Missing Count', palette='mako')\n"
     ]
    },
    {
     "data": {
      "text/plain": [
       "<Figure size 700x500 with 1 Axes>"
      ],
      "image/png": "[encoded data removed]"
     },
     "metadata": {},
     "output_type": "display_data"
    }
   ],
   "execution_count": 6
  },
  {
   "cell_type": "code",
   "id": "d80e179e-cfd6-4fd7-99d1-8efb77229eca",
   "metadata": {
    "tags": [],
    "ExecuteTime": {
     "end_time": "2025-08-04T13:42:12.471790Z",
     "start_time": "2025-08-04T13:42:12.323191Z"
    }
   },
   "source": [
    "# EDA look ups\n",
    "print(filtered_df.isnull().sum())\n",
    "print(\"\\n Data Types\")\n",
    "print(filtered_df.dtypes)"
   ],
   "outputs": [
    {
     "name": "stdout",
     "output_type": "stream",
     "text": [
      "Severity                  0\n",
      "Start_Time                0\n",
      "End_Time                  0\n",
      "Distance(mi)              0\n",
      "City                     11\n",
      "County                    0\n",
      "Zipcode                   0\n",
      "Temperature(F)        12584\n",
      "Wind_Chill(F)        475056\n",
      "Humidity(%)           14919\n",
      "Pressure(in)           3927\n",
      "Visibility(mi)         6890\n",
      "Wind_Direction        12955\n",
      "Wind_Speed(mph)      129072\n",
      "Precipitation(in)    529034\n",
      "Weather_Condition      6534\n",
      "dtype: int64\n",
      "\n",
      " Data Types\n",
      "Severity               int64\n",
      "Start_Time            object\n",
      "End_Time              object\n",
      "Distance(mi)         float64\n",
      "City                  object\n",
      "County                object\n",
      "Zipcode               object\n",
      "Temperature(F)       float64\n",
      "Wind_Chill(F)        float64\n",
      "Humidity(%)          float64\n",
      "Pressure(in)         float64\n",
      "Visibility(mi)       float64\n",
      "Wind_Direction        object\n",
      "Wind_Speed(mph)      float64\n",
      "Precipitation(in)    float64\n",
      "Weather_Condition     object\n",
      "dtype: object\n"
     ]
    }
   ],
   "execution_count": 7
  },
  {
   "cell_type": "code",
   "id": "a00e3fc9-3804-48c2-8e2b-0a2f64c053b6",
   "metadata": {
    "tags": [],
    "ExecuteTime": {
     "end_time": "2025-08-04T13:42:12.619142Z",
     "start_time": "2025-08-04T13:42:12.478739Z"
    }
   },
   "source": [
    "# Dealing with Columns with NaN values\n",
    "# Categorical Columns will be filled with mode\n",
    "# Numerical Values either with mean or median based of skewness\n",
    "\n",
    "# Numerical Columns with NaN\n",
    "num_columns_with_missing = [\n",
    "    \"Temperature(F)\",\n",
    "    \"Wind_Chill(F)\",\n",
    "    \"Humidity(%)\",\n",
    "    \"Pressure(in)\",\n",
    "    \"Visibility(mi)\",\n",
    "    \"Wind_Speed(mph)\",\n",
    "    \"Precipitation(in)\"\n",
    "]\n",
    "\n",
    "for column in  num_columns_with_missing:\n",
    "    print(f\"Column: {column} \\n     \")\n",
    "    print(f\"Skewness:{filtered_df[column].skew(): 0.4f}\")\n",
    "    print(f\"Mode:{filtered_df[column].mode()[0]}\")\n",
    "    print(filtered_df[column].value_counts().head(5))\n",
    "    print(f\"Number of Unique Values: {filtered_df[column].nunique()}\")\n",
    "\n",
    "\n"
   ],
   "outputs": [
    {
     "name": "stdout",
     "output_type": "stream",
     "text": [
      "Column: Temperature(F) \n",
      "     \n",
      "Skewness: 0.2897\n",
      "Mode:59.0\n",
      "Temperature(F)\n",
      "59.0    59228\n",
      "57.0    53726\n",
      "63.0    53621\n",
      "61.0    52234\n",
      "64.0    50815\n",
      "Name: count, dtype: int64\n",
      "Number of Unique Values: 570\n",
      "Column: Wind_Chill(F) \n",
      "     \n",
      "Skewness: 0.1400\n",
      "Mode:57.0\n",
      "Wind_Chill(F)\n",
      "57.0    42273\n",
      "63.0    40823\n",
      "59.0    40301\n",
      "61.0    39186\n",
      "54.0    38768\n",
      "Name: count, dtype: int64\n",
      "Number of Unique Values: 402\n",
      "Column: Humidity(%) \n",
      "     \n",
      "Skewness:-0.2725\n",
      "Mode:93.0\n",
      "Humidity(%)\n",
      "93.0     45795\n",
      "100.0    45098\n",
      "83.0     34859\n",
      "72.0     33146\n",
      "78.0     32415\n",
      "Name: count, dtype: int64\n",
      "Number of Unique Values: 100\n",
      "Column: Pressure(in) \n",
      "     \n",
      "Skewness:-3.8959\n",
      "Mode:29.91\n",
      "Pressure(in)\n",
      "29.91    36632\n",
      "29.94    35999\n",
      "29.88    35700\n",
      "29.96    35507\n",
      "29.90    33619\n",
      "Name: count, dtype: int64\n",
      "Number of Unique Values: 834\n",
      "Column: Visibility(mi) \n",
      "     \n",
      "Skewness: 4.8897\n",
      "Mode:10.0\n",
      "Visibility(mi)\n",
      "10.0    1308974\n",
      "9.0       61957\n",
      "7.0       58321\n",
      "8.0       51261\n",
      "6.0       40813\n",
      "Name: count, dtype: int64\n",
      "Number of Unique Values: 63\n",
      "Column: Wind_Speed(mph) \n",
      "     \n",
      "Skewness: 23.3095\n",
      "Mode:0.0\n",
      "Wind_Speed(mph)\n",
      "0.0    315355\n",
      "3.0    141590\n",
      "5.0    126715\n",
      "6.0    109110\n",
      "7.0     94551\n",
      "Name: count, dtype: int64\n",
      "Number of Unique Values: 121\n",
      "Column: Precipitation(in) \n",
      "     \n",
      "Skewness: 282.7024\n",
      "Mode:0.0\n",
      "Precipitation(in)\n",
      "0.00    1084127\n",
      "0.01      17357\n",
      "0.02       9444\n",
      "0.03       6628\n",
      "0.04       5386\n",
      "Name: count, dtype: int64\n",
      "Number of Unique Values: 91\n"
     ]
    }
   ],
   "execution_count": 8
  },
  {
   "cell_type": "code",
   "id": "36472af7-487b-4c61-a804-72f244e3bd31",
   "metadata": {
    "tags": [],
    "ExecuteTime": {
     "end_time": "2025-08-04T13:42:12.782858Z",
     "start_time": "2025-08-04T13:42:12.627619Z"
    }
   },
   "source": [
    "# EDA lookups\n",
    "print(filtered_df.isnull().sum())\n",
    "print(filtered_df.dtypes)"
   ],
   "outputs": [
    {
     "name": "stdout",
     "output_type": "stream",
     "text": [
      "Severity                  0\n",
      "Start_Time                0\n",
      "End_Time                  0\n",
      "Distance(mi)              0\n",
      "City                     11\n",
      "County                    0\n",
      "Zipcode                   0\n",
      "Temperature(F)        12584\n",
      "Wind_Chill(F)        475056\n",
      "Humidity(%)           14919\n",
      "Pressure(in)           3927\n",
      "Visibility(mi)         6890\n",
      "Wind_Direction        12955\n",
      "Wind_Speed(mph)      129072\n",
      "Precipitation(in)    529034\n",
      "Weather_Condition      6534\n",
      "dtype: int64\n",
      "Severity               int64\n",
      "Start_Time            object\n",
      "End_Time              object\n",
      "Distance(mi)         float64\n",
      "City                  object\n",
      "County                object\n",
      "Zipcode               object\n",
      "Temperature(F)       float64\n",
      "Wind_Chill(F)        float64\n",
      "Humidity(%)          float64\n",
      "Pressure(in)         float64\n",
      "Visibility(mi)       float64\n",
      "Wind_Direction        object\n",
      "Wind_Speed(mph)      float64\n",
      "Precipitation(in)    float64\n",
      "Weather_Condition     object\n",
      "dtype: object\n"
     ]
    }
   ],
   "execution_count": 9
  },
  {
   "cell_type": "code",
   "id": "40aa3129-72f4-4d39-8926-22dc7a4234bc",
   "metadata": {
    "tags": [],
    "ExecuteTime": {
     "end_time": "2025-08-04T13:42:13.789567Z",
     "start_time": "2025-08-04T13:42:12.793914Z"
    }
   },
   "source": [
    "# Filling NaN categorical data\n",
    "filtered_df[\"City\"].fillna(filtered_df[\"City\"].mode()[0],inplace = True)\n",
    "filtered_df[\"Weather_Condition\"].fillna(filtered_df[\"Weather_Condition\"].mode()[0],inplace = True)\n",
    "filtered_df[\"Wind_Direction\"].fillna(filtered_df[\"Wind_Direction\"].mode()[0],inplace = True)\n",
    "\n",
    "\n",
    "# Filling Nan Numerical Data\n",
    "filtered_df[\"Temperature(F)\"].fillna(filtered_df[\"Temperature(F)\"].median(),inplace = True)\n",
    "filtered_df[\"Wind_Chill(F)\"].fillna(filtered_df[\"Wind_Chill(F)\"].mean(),inplace = True)\n",
    "filtered_df[\"Humidity(%)\"].fillna(filtered_df[\"Humidity(%)\"].median(),inplace = True)\n",
    "filtered_df[\"Pressure(in)\"].fillna(filtered_df[\"Pressure(in)\"].median(),inplace = True)\n",
    "filtered_df[\"Visibility(mi)\"].fillna(filtered_df[\"Visibility(mi)\"].median(),inplace = True)\n",
    "\n",
    "# Since Our dataset is massive, its better drop rows with these NaN values in these columns\n",
    "#  have 200K+ NaN values.\n",
    "filtered_df = filtered_df.dropna(subset=[\n",
    "    \"Wind_Chill(F)\",\n",
    "    \"Precipitation(in)\",\n",
    "    \"Wind_Speed(mph)\"\n",
    "])\n",
    "\n",
    "# Zipcode has 126942 unique values, which is a lot. While Training this can get really noise, we will group them on there first three digits\n",
    "# Some zipcode are in the format 95377-4563, we came remove this extra details \n",
    "print(f\"Zipcode Unique Values Before: {filtered_df['Zipcode'].nunique()}\")\n",
    "filtered_df[\"Zipcode\"] = filtered_df[\"Zipcode\"].astype(str).str.extract(r\"(\\d{5})\")\n",
    "\n",
    "#When pattens are not found, Zipcode might become 0, remove those. This is not the best way to deal with this. But we have a lot of data, and we need to trim it anyway.\n",
    "filtered_df = filtered_df.dropna(subset=[\"Zipcode\"])\n",
    "\n",
    "print(f\"Shape After Removal:{filtered_df.shape}\")\n",
    "print(f\"Zipcode Unique Values After:{filtered_df['Zipcode'].nunique()}\")"
   ],
   "outputs": [
    {
     "name": "stderr",
     "output_type": "stream",
     "text": [
      "/var/folders/m8/x0f9131s0bnfbnqp15hmpbpw0000gn/T/ipykernel_19763/3694503096.py:2: FutureWarning: A value is trying to be set on a copy of a DataFrame or Series through chained assignment using an inplace method.\n",
      "The behavior will change in pandas 3.0. This inplace method will never work because the intermediate object on which we are setting values always behaves as a copy.\n",
      "\n",
      "For example, when doing 'df[col].method(value, inplace=True)', try using 'df.method({col: value}, inplace=True)' or df[col] = df[col].method(value) instead, to perform the operation inplace on the original object.\n",
      "\n",
      "\n",
      "  filtered_df[\"City\"].fillna(filtered_df[\"City\"].mode()[0],inplace = True)\n",
      "/var/folders/m8/x0f9131s0bnfbnqp15hmpbpw0000gn/T/ipykernel_19763/3694503096.py:3: FutureWarning: A value is trying to be set on a copy of a DataFrame or Series through chained assignment using an inplace method.\n",
      "The behavior will change in pandas 3.0. This inplace method will never work because the intermediate object on which we are setting values always behaves as a copy.\n",
      "\n",
      "For example, when doing 'df[col].method(value, inplace=True)', try using 'df.method({col: value}, inplace=True)' or df[col] = df[col].method(value) instead, to perform the operation inplace on the original object.\n",
      "\n",
      "\n",
      "  filtered_df[\"Weather_Condition\"].fillna(filtered_df[\"Weather_Condition\"].mode()[0],inplace = True)\n",
      "/var/folders/m8/x0f9131s0bnfbnqp15hmpbpw0000gn/T/ipykernel_19763/3694503096.py:4: FutureWarning: A value is trying to be set on a copy of a DataFrame or Series through chained assignment using an inplace method.\n",
      "The behavior will change in pandas 3.0. This inplace method will never work because the intermediate object on which we are setting values always behaves as a copy.\n",
      "\n",
      "For example, when doing 'df[col].method(value, inplace=True)', try using 'df.method({col: value}, inplace=True)' or df[col] = df[col].method(value) instead, to perform the operation inplace on the original object.\n",
      "\n",
      "\n",
      "  filtered_df[\"Wind_Direction\"].fillna(filtered_df[\"Wind_Direction\"].mode()[0],inplace = True)\n",
      "/var/folders/m8/x0f9131s0bnfbnqp15hmpbpw0000gn/T/ipykernel_19763/3694503096.py:8: FutureWarning: A value is trying to be set on a copy of a DataFrame or Series through chained assignment using an inplace method.\n",
      "The behavior will change in pandas 3.0. This inplace method will never work because the intermediate object on which we are setting values always behaves as a copy.\n",
      "\n",
      "For example, when doing 'df[col].method(value, inplace=True)', try using 'df.method({col: value}, inplace=True)' or df[col] = df[col].method(value) instead, to perform the operation inplace on the original object.\n",
      "\n",
      "\n",
      "  filtered_df[\"Temperature(F)\"].fillna(filtered_df[\"Temperature(F)\"].median(),inplace = True)\n",
      "/var/folders/m8/x0f9131s0bnfbnqp15hmpbpw0000gn/T/ipykernel_19763/3694503096.py:9: FutureWarning: A value is trying to be set on a copy of a DataFrame or Series through chained assignment using an inplace method.\n",
      "The behavior will change in pandas 3.0. This inplace method will never work because the intermediate object on which we are setting values always behaves as a copy.\n",
      "\n",
      "For example, when doing 'df[col].method(value, inplace=True)', try using 'df.method({col: value}, inplace=True)' or df[col] = df[col].method(value) instead, to perform the operation inplace on the original object.\n",
      "\n",
      "\n",
      "  filtered_df[\"Wind_Chill(F)\"].fillna(filtered_df[\"Wind_Chill(F)\"].mean(),inplace = True)\n",
      "/var/folders/m8/x0f9131s0bnfbnqp15hmpbpw0000gn/T/ipykernel_19763/3694503096.py:10: FutureWarning: A value is trying to be set on a copy of a DataFrame or Series through chained assignment using an inplace method.\n",
      "The behavior will change in pandas 3.0. This inplace method will never work because the intermediate object on which we are setting values always behaves as a copy.\n",
      "\n",
      "For example, when doing 'df[col].method(value, inplace=True)', try using 'df.method({col: value}, inplace=True)' or df[col] = df[col].method(value) instead, to perform the operation inplace on the original object.\n",
      "\n",
      "\n",
      "  filtered_df[\"Humidity(%)\"].fillna(filtered_df[\"Humidity(%)\"].median(),inplace = True)\n",
      "/var/folders/m8/x0f9131s0bnfbnqp15hmpbpw0000gn/T/ipykernel_19763/3694503096.py:11: FutureWarning: A value is trying to be set on a copy of a DataFrame or Series through chained assignment using an inplace method.\n",
      "The behavior will change in pandas 3.0. This inplace method will never work because the intermediate object on which we are setting values always behaves as a copy.\n",
      "\n",
      "For example, when doing 'df[col].method(value, inplace=True)', try using 'df.method({col: value}, inplace=True)' or df[col] = df[col].method(value) instead, to perform the operation inplace on the original object.\n",
      "\n",
      "\n",
      "  filtered_df[\"Pressure(in)\"].fillna(filtered_df[\"Pressure(in)\"].median(),inplace = True)\n",
      "/var/folders/m8/x0f9131s0bnfbnqp15hmpbpw0000gn/T/ipykernel_19763/3694503096.py:12: FutureWarning: A value is trying to be set on a copy of a DataFrame or Series through chained assignment using an inplace method.\n",
      "The behavior will change in pandas 3.0. This inplace method will never work because the intermediate object on which we are setting values always behaves as a copy.\n",
      "\n",
      "For example, when doing 'df[col].method(value, inplace=True)', try using 'df.method({col: value}, inplace=True)' or df[col] = df[col].method(value) instead, to perform the operation inplace on the original object.\n",
      "\n",
      "\n",
      "  filtered_df[\"Visibility(mi)\"].fillna(filtered_df[\"Visibility(mi)\"].median(),inplace = True)\n"
     ]
    },
    {
     "name": "stdout",
     "output_type": "stream",
     "text": [
      "Zipcode Unique Values Before: 105518\n",
      "Shape After Removal:(1138154, 16)\n",
      "Zipcode Unique Values After:1545\n"
     ]
    }
   ],
   "execution_count": 10
  },
  {
   "cell_type": "code",
   "id": "72a2fb8e-7947-421c-b96b-cc2aaec6665c",
   "metadata": {
    "tags": [],
    "ExecuteTime": {
     "end_time": "2025-08-04T13:42:15.383386Z",
     "start_time": "2025-08-04T13:42:13.798785Z"
    }
   },
   "source": [
    "# Converting to DateTime\n",
    "filtered_df[\"Start_Time\"] = pd.to_datetime(filtered_df[\"Start_Time\"], errors='coerce')\n",
    "filtered_df[\"End_Time\"] = pd.to_datetime(filtered_df[\"End_Time\"], errors='coerce')\n",
    "\n",
    "# Dropping NAN rows\n",
    "filtered_df = filtered_df.dropna()\n",
    "\n",
    "# Feature Engineering\n",
    "filtered_df[\"Date\"] = pd.to_datetime(filtered_df[\"Start_Time\"].dt.date)\n",
    "filtered_df[\"day_of_week\"] = filtered_df[\"Start_Time\"].dt.dayofweek\n",
    "filtered_df[\"Hour\"] = filtered_df[\"Start_Time\"].dt.hour\n",
    "filtered_df[\"Duration_minutes\"] = (filtered_df[\"End_Time\"] - filtered_df[\"Start_Time\"]).dt.total_seconds() / 60\n",
    "filtered_df[\"Month\"] = filtered_df[\"Date\"].dt.month\n",
    "filtered_df[\"Hour\"] = filtered_df[\"Hour\"].astype(int)\n",
    "\n",
    "\n",
    "# Library holidays allows us flag as holiday or not.\n",
    "import holidays\n",
    "us_holidays = holidays.US()\n",
    "\n",
    "# Create a new boolean column: 1 if holiday, else 0\n",
    "filtered_df['Is_Holiday'] = filtered_df['Date'].apply(lambda date: 1 if date in us_holidays else 0)\n",
    "\n",
    "\n",
    "# Create a new column rush hour\n",
    "filtered_df['Is_Rush_Hour'] = filtered_df['Hour'].apply(lambda hour: 1 if (7<=hour<=9) or (16<=hour<=19) else 0)\n",
    "\n",
    "\n",
    "#Create Accident Density \n",
    "filtered_df[\"accident_density\"] = filtered_df.groupby(\"County\")[\"County\"].transform('count')\n",
    "\n",
    "#Drop, Extracted all the important information.\n",
    "filtered_df.drop(\"Start_Time\",axis =1, inplace =True)\n",
    "filtered_df.drop(\"End_Time\",axis =1, inplace =True)\n",
    "filtered_df.drop(\"Date\",axis =1, inplace = True)\n",
    "\n",
    "\n",
    "print(f\"Shape After Removal:{filtered_df.shape}\")\n",
    "filtered_df.head(7)"
   ],
   "outputs": [
    {
     "name": "stdout",
     "output_type": "stream",
     "text": [
      "Shape After Removal:(980125, 21)\n"
     ]
    },
    {
     "data": {
      "text/plain": [
       "      Severity  Distance(mi)           City      County Zipcode  \\\n",
       "230          3          0.00      Fairfield      Solano   94534   \n",
       "240          3          0.00      Fairfield      Solano   94534   \n",
       "919          3          0.00        Hayward     Alameda   94541   \n",
       "2172         2          0.00        Fremont     Alameda   94555   \n",
       "2173         3          0.00        Hayward     Alameda   94545   \n",
       "2174         2          0.00  Castro Valley     Alameda   94552   \n",
       "4283         2          0.01  Boulder Creek  Santa Cruz   95006   \n",
       "\n",
       "      Temperature(F)  Wind_Chill(F)  Humidity(%)  Pressure(in)  \\\n",
       "230             55.9      62.825993         80.0         29.96   \n",
       "240             54.0      62.825993         83.0         29.98   \n",
       "919             60.1      62.825993         67.0         30.04   \n",
       "2172            73.9      62.825993         46.0         30.03   \n",
       "2173            73.9      62.825993         46.0         30.03   \n",
       "2174            73.9      62.825993         46.0         30.03   \n",
       "4283            53.1      62.825993         89.0         30.09   \n",
       "\n",
       "      Visibility(mi)  ... Wind_Speed(mph)  Precipitation(in)  \\\n",
       "230             10.0  ...             9.2               0.00   \n",
       "240             10.0  ...             5.8               0.00   \n",
       "919             10.0  ...            11.5               0.00   \n",
       "2172            10.0  ...             8.1               0.00   \n",
       "2173            10.0  ...             8.1               0.00   \n",
       "2174            10.0  ...             8.1               0.00   \n",
       "4283            10.0  ...             9.2               0.02   \n",
       "\n",
       "      Weather_Condition day_of_week  Hour  Duration_minutes  Month  \\\n",
       "230          Light Rain           2    23         30.000000      6   \n",
       "240          Light Rain           3     3         60.000000      6   \n",
       "919       Mostly Cloudy           2    10         45.883333      6   \n",
       "2172              Clear           2    11         30.000000      7   \n",
       "2173              Clear           2    11         30.000000      7   \n",
       "2174              Clear           2    11         45.000000      7   \n",
       "4283      Mostly Cloudy           2    16         45.316667     11   \n",
       "\n",
       "      Is_Holiday  Is_Rush_Hour  accident_density  \n",
       "230            0             0             13214  \n",
       "240            0             0             13214  \n",
       "919            0             0             54183  \n",
       "2172           0             0             54183  \n",
       "2173           0             0             54183  \n",
       "2174           0             0             54183  \n",
       "4283           0             1              9619  \n",
       "\n",
       "[7 rows x 21 columns]"
      ],
      "text/html": [
       "<div>\n",
       "<style scoped>\n",
       "    .dataframe tbody tr th:only-of-type {\n",
       "        vertical-align: middle;\n",
       "    }\n",
       "\n",
       "    .dataframe tbody tr th {\n",
       "        vertical-align: top;\n",
       "    }\n",
       "\n",
       "    .dataframe thead th {\n",
       "        text-align: right;\n",
       "    }\n",
       "</style>\n",
       "<table border=\"1\" class=\"dataframe\">\n",
       "  <thead>\n",
       "    <tr style=\"text-align: right;\">\n",
       "      <th></th>\n",
       "      <th>Severity</th>\n",
       "      <th>Distance(mi)</th>\n",
       "      <th>City</th>\n",
       "      <th>County</th>\n",
       "      <th>Zipcode</th>\n",
       "      <th>Temperature(F)</th>\n",
       "      <th>Wind_Chill(F)</th>\n",
       "      <th>Humidity(%)</th>\n",
       "      <th>Pressure(in)</th>\n",
       "      <th>Visibility(mi)</th>\n",
       "      <th>...</th>\n",
       "      <th>Wind_Speed(mph)</th>\n",
       "      <th>Precipitation(in)</th>\n",
       "      <th>Weather_Condition</th>\n",
       "      <th>day_of_week</th>\n",
       "      <th>Hour</th>\n",
       "      <th>Duration_minutes</th>\n",
       "      <th>Month</th>\n",
       "      <th>Is_Holiday</th>\n",
       "      <th>Is_Rush_Hour</th>\n",
       "      <th>accident_density</th>\n",
       "    </tr>\n",
       "  </thead>\n",
       "  <tbody>\n",
       "    <tr>\n",
       "      <th>230</th>\n",
       "      <td>3</td>\n",
       "      <td>0.00</td>\n",
       "      <td>Fairfield</td>\n",
       "      <td>Solano</td>\n",
       "      <td>94534</td>\n",
       "      <td>55.9</td>\n",
       "      <td>62.825993</td>\n",
       "      <td>80.0</td>\n",
       "      <td>29.96</td>\n",
       "      <td>10.0</td>\n",
       "      <td>...</td>\n",
       "      <td>9.2</td>\n",
       "      <td>0.00</td>\n",
       "      <td>Light Rain</td>\n",
       "      <td>2</td>\n",
       "      <td>23</td>\n",
       "      <td>30.000000</td>\n",
       "      <td>6</td>\n",
       "      <td>0</td>\n",
       "      <td>0</td>\n",
       "      <td>13214</td>\n",
       "    </tr>\n",
       "    <tr>\n",
       "      <th>240</th>\n",
       "      <td>3</td>\n",
       "      <td>0.00</td>\n",
       "      <td>Fairfield</td>\n",
       "      <td>Solano</td>\n",
       "      <td>94534</td>\n",
       "      <td>54.0</td>\n",
       "      <td>62.825993</td>\n",
       "      <td>83.0</td>\n",
       "      <td>29.98</td>\n",
       "      <td>10.0</td>\n",
       "      <td>...</td>\n",
       "      <td>5.8</td>\n",
       "      <td>0.00</td>\n",
       "      <td>Light Rain</td>\n",
       "      <td>3</td>\n",
       "      <td>3</td>\n",
       "      <td>60.000000</td>\n",
       "      <td>6</td>\n",
       "      <td>0</td>\n",
       "      <td>0</td>\n",
       "      <td>13214</td>\n",
       "    </tr>\n",
       "    <tr>\n",
       "      <th>919</th>\n",
       "      <td>3</td>\n",
       "      <td>0.00</td>\n",
       "      <td>Hayward</td>\n",
       "      <td>Alameda</td>\n",
       "      <td>94541</td>\n",
       "      <td>60.1</td>\n",
       "      <td>62.825993</td>\n",
       "      <td>67.0</td>\n",
       "      <td>30.04</td>\n",
       "      <td>10.0</td>\n",
       "      <td>...</td>\n",
       "      <td>11.5</td>\n",
       "      <td>0.00</td>\n",
       "      <td>Mostly Cloudy</td>\n",
       "      <td>2</td>\n",
       "      <td>10</td>\n",
       "      <td>45.883333</td>\n",
       "      <td>6</td>\n",
       "      <td>0</td>\n",
       "      <td>0</td>\n",
       "      <td>54183</td>\n",
       "    </tr>\n",
       "    <tr>\n",
       "      <th>2172</th>\n",
       "      <td>2</td>\n",
       "      <td>0.00</td>\n",
       "      <td>Fremont</td>\n",
       "      <td>Alameda</td>\n",
       "      <td>94555</td>\n",
       "      <td>73.9</td>\n",
       "      <td>62.825993</td>\n",
       "      <td>46.0</td>\n",
       "      <td>30.03</td>\n",
       "      <td>10.0</td>\n",
       "      <td>...</td>\n",
       "      <td>8.1</td>\n",
       "      <td>0.00</td>\n",
       "      <td>Clear</td>\n",
       "      <td>2</td>\n",
       "      <td>11</td>\n",
       "      <td>30.000000</td>\n",
       "      <td>7</td>\n",
       "      <td>0</td>\n",
       "      <td>0</td>\n",
       "      <td>54183</td>\n",
       "    </tr>\n",
       "    <tr>\n",
       "      <th>2173</th>\n",
       "      <td>3</td>\n",
       "      <td>0.00</td>\n",
       "      <td>Hayward</td>\n",
       "      <td>Alameda</td>\n",
       "      <td>94545</td>\n",
       "      <td>73.9</td>\n",
       "      <td>62.825993</td>\n",
       "      <td>46.0</td>\n",
       "      <td>30.03</td>\n",
       "      <td>10.0</td>\n",
       "      <td>...</td>\n",
       "      <td>8.1</td>\n",
       "      <td>0.00</td>\n",
       "      <td>Clear</td>\n",
       "      <td>2</td>\n",
       "      <td>11</td>\n",
       "      <td>30.000000</td>\n",
       "      <td>7</td>\n",
       "      <td>0</td>\n",
       "      <td>0</td>\n",
       "      <td>54183</td>\n",
       "    </tr>\n",
       "    <tr>\n",
       "      <th>2174</th>\n",
       "      <td>2</td>\n",
       "      <td>0.00</td>\n",
       "      <td>Castro Valley</td>\n",
       "      <td>Alameda</td>\n",
       "      <td>94552</td>\n",
       "      <td>73.9</td>\n",
       "      <td>62.825993</td>\n",
       "      <td>46.0</td>\n",
       "      <td>30.03</td>\n",
       "      <td>10.0</td>\n",
       "      <td>...</td>\n",
       "      <td>8.1</td>\n",
       "      <td>0.00</td>\n",
       "      <td>Clear</td>\n",
       "      <td>2</td>\n",
       "      <td>11</td>\n",
       "      <td>45.000000</td>\n",
       "      <td>7</td>\n",
       "      <td>0</td>\n",
       "      <td>0</td>\n",
       "      <td>54183</td>\n",
       "    </tr>\n",
       "    <tr>\n",
       "      <th>4283</th>\n",
       "      <td>2</td>\n",
       "      <td>0.01</td>\n",
       "      <td>Boulder Creek</td>\n",
       "      <td>Santa Cruz</td>\n",
       "      <td>95006</td>\n",
       "      <td>53.1</td>\n",
       "      <td>62.825993</td>\n",
       "      <td>89.0</td>\n",
       "      <td>30.09</td>\n",
       "      <td>10.0</td>\n",
       "      <td>...</td>\n",
       "      <td>9.2</td>\n",
       "      <td>0.02</td>\n",
       "      <td>Mostly Cloudy</td>\n",
       "      <td>2</td>\n",
       "      <td>16</td>\n",
       "      <td>45.316667</td>\n",
       "      <td>11</td>\n",
       "      <td>0</td>\n",
       "      <td>1</td>\n",
       "      <td>9619</td>\n",
       "    </tr>\n",
       "  </tbody>\n",
       "</table>\n",
       "<p>7 rows × 21 columns</p>\n",
       "</div>"
      ]
     },
     "execution_count": 11,
     "metadata": {},
     "output_type": "execute_result"
    }
   ],
   "execution_count": 11
  },
  {
   "cell_type": "code",
   "id": "cd04c94d-b1ca-4370-b3b5-cf1fefa77322",
   "metadata": {
    "tags": [],
    "ExecuteTime": {
     "end_time": "2025-08-04T13:42:15.477170Z",
     "start_time": "2025-08-04T13:42:15.406475Z"
    }
   },
   "source": [
    "# EDA Look ups \n",
    "print(filtered_df.isnull().sum())\n",
    "filtered_df.dtypes"
   ],
   "outputs": [
    {
     "name": "stdout",
     "output_type": "stream",
     "text": [
      "Severity             0\n",
      "Distance(mi)         0\n",
      "City                 0\n",
      "County               0\n",
      "Zipcode              0\n",
      "Temperature(F)       0\n",
      "Wind_Chill(F)        0\n",
      "Humidity(%)          0\n",
      "Pressure(in)         0\n",
      "Visibility(mi)       0\n",
      "Wind_Direction       0\n",
      "Wind_Speed(mph)      0\n",
      "Precipitation(in)    0\n",
      "Weather_Condition    0\n",
      "day_of_week          0\n",
      "Hour                 0\n",
      "Duration_minutes     0\n",
      "Month                0\n",
      "Is_Holiday           0\n",
      "Is_Rush_Hour         0\n",
      "accident_density     0\n",
      "dtype: int64\n"
     ]
    },
    {
     "data": {
      "text/plain": [
       "Severity               int64\n",
       "Distance(mi)         float64\n",
       "City                  object\n",
       "County                object\n",
       "Zipcode               object\n",
       "Temperature(F)       float64\n",
       "Wind_Chill(F)        float64\n",
       "Humidity(%)          float64\n",
       "Pressure(in)         float64\n",
       "Visibility(mi)       float64\n",
       "Wind_Direction        object\n",
       "Wind_Speed(mph)      float64\n",
       "Precipitation(in)    float64\n",
       "Weather_Condition     object\n",
       "day_of_week            int32\n",
       "Hour                   int64\n",
       "Duration_minutes     float64\n",
       "Month                  int32\n",
       "Is_Holiday             int64\n",
       "Is_Rush_Hour           int64\n",
       "accident_density       int64\n",
       "dtype: object"
      ]
     },
     "execution_count": 12,
     "metadata": {},
     "output_type": "execute_result"
    }
   ],
   "execution_count": 12
  },
  {
   "cell_type": "markdown",
   "id": "706626cc-0d61-428a-be3a-b0892db71b92",
   "metadata": {},
   "source": [
    "## Dealing with outliers"
   ]
  },
  {
   "cell_type": "code",
   "id": "50bf6f06-c6b0-4245-9303-1f42142e16c6",
   "metadata": {
    "tags": [],
    "ExecuteTime": {
     "end_time": "2025-08-04T13:42:20.285723Z",
     "start_time": "2025-08-04T13:42:15.510586Z"
    }
   },
   "source": [
    "# Dealing with outliers is crucial for a clean and reliable dataset\n",
    "# Outliers can lead to poor generalization, reducing model_development precision and overall accuracy.\n",
    "# CA_Accidents has two types of outliers: natural(extreme but valid values) and data collection error(ex:impossible weather conditions)\n",
    "# We will remove the outliers caused by data collection error, and retain natural outliers as is, since they may hold valuable information.\n",
    "numeric_cols = ['Distance(mi)', 'Temperature(F)', 'Humidity(%)', 'Pressure(in)', \n",
    "                'Visibility(mi)', 'Wind_Speed(mph)','Wind_Chill(F)', 'Precipitation(in)', 'Hour', 'Duration_minutes']\n",
    "\n",
    "# Plotting Box plots to visualize outliers\n",
    "for col in numeric_cols:\n",
    "    plt.figure(figsize=(8, 4))\n",
    "    sns.boxplot(x=filtered_df[col])\n",
    "    plt.title(f\"Boxplot of {col}\")\n",
    "    plt.show()\n",
    "    \n",
    "# Dataset Basic Statics\n",
    "filtered_df.describe() "
   ],
   "outputs": [
    {
     "data": {
      "text/plain": [
       "<Figure size 800x400 with 1 Axes>"
      ],
      "image/png": "[encoded data removed]"
     },
     "metadata": {},
     "output_type": "display_data"
    },
    {
     "data": {
      "text/plain": [
       "<Figure size 800x400 with 1 Axes>"
      ],
      "image/png": "[encoded data removed]"
     },
     "metadata": {},
     "output_type": "display_data"
    },
    {
     "data": {
      "text/plain": [
       "<Figure size 800x400 with 1 Axes>"
      ],
      "image/png": "[encoded data removed]"
     },
     "metadata": {},
     "output_type": "display_data"
    },
    {
     "data": {
      "text/plain": [
       "<Figure size 800x400 with 1 Axes>"
      ],
      "image/png": "[encoded data removed]"
     },
     "metadata": {},
     "output_type": "display_data"
    },
    {
     "data": {
      "text/plain": [
       "<Figure size 800x400 with 1 Axes>"
      ],
      "image/png": "[encoded data removed]"
     },
     "metadata": {},
     "output_type": "display_data"
    },
    {
     "data": {
      "text/plain": [
       "<Figure size 800x400 with 1 Axes>"
      ],
      "image/png": "[encoded data removed]"
     },
     "metadata": {},
     "output_type": "display_data"
    },
    {
     "data": {
      "text/plain": [
       "<Figure size 800x400 with 1 Axes>"
      ],
      "image/png": "[encoded data removed]"
     },
     "metadata": {},
     "output_type": "display_data"
    },
    {
     "data": {
      "text/plain": [
       "<Figure size 800x400 with 1 Axes>"
      ],
      "image/png": "[encoded data removed]"
     },
     "metadata": {},
     "output_type": "display_data"
    },
    {
     "data": {
      "text/plain": [
       "<Figure size 800x400 with 1 Axes>"
      ],
      "image/png": "[encoded data removed]"
     },
     "metadata": {},
     "output_type": "display_data"
    },
    {
     "data": {
      "text/plain": [
       "<Figure size 800x400 with 1 Axes>"
      ],
      "image/png": "[encoded data removed]"
     },
     "metadata": {},
     "output_type": "display_data"
    },
    {
     "data": {
      "text/plain": [
       "            Severity   Distance(mi)  Temperature(F)  Wind_Chill(F)  \\\n",
       "count  980125.000000  980125.000000   980125.000000  980125.000000   \n",
       "mean        2.098397       0.539264       63.173163      63.056511   \n",
       "std         0.344728       1.414149       13.712230      14.115127   \n",
       "min         1.000000       0.000000       -8.000000     -28.000000   \n",
       "25%         2.000000       0.000000       54.000000      54.000000   \n",
       "50%         2.000000       0.049000       62.000000      62.825993   \n",
       "75%         2.000000       0.498000       72.000000      72.000000   \n",
       "max         4.000000      75.879997      207.000000     207.000000   \n",
       "\n",
       "         Humidity(%)   Pressure(in)  Visibility(mi)  Wind_Speed(mph)  \\\n",
       "count  980125.000000  980125.000000   980125.000000    980125.000000   \n",
       "mean       59.083077      29.515937        8.992686         6.095763   \n",
       "std        24.410542       0.859444        2.717702         5.475986   \n",
       "min         1.000000      16.710000        0.000000         0.000000   \n",
       "25%        40.000000      29.420000       10.000000         0.000000   \n",
       "50%        62.000000      29.800000       10.000000         6.000000   \n",
       "75%        80.000000      29.940000       10.000000         9.000000   \n",
       "max       100.000000      58.390000      100.000000      1087.000000   \n",
       "\n",
       "       Precipitation(in)    day_of_week           Hour  Duration_minutes  \\\n",
       "count      980125.000000  980125.000000  980125.000000     980125.000000   \n",
       "mean            0.004134       2.835032      12.359919        121.683419   \n",
       "std             0.030002       1.897738       5.853096       1389.254402   \n",
       "min             0.000000       0.000000       0.000000          3.000000   \n",
       "25%             0.000000       1.000000       8.000000         44.766667   \n",
       "50%             0.000000       3.000000      13.000000         79.416667   \n",
       "75%             0.000000       4.000000      17.000000        131.750000   \n",
       "max            10.400000       6.000000      23.000000     525599.983333   \n",
       "\n",
       "               Month     Is_Holiday   Is_Rush_Hour  accident_density  \n",
       "count  980125.000000  980125.000000  980125.000000     980125.000000  \n",
       "mean        6.625589       0.030199       0.383923      97873.658777  \n",
       "std         3.743528       0.171135       0.486340     104080.308792  \n",
       "min         1.000000       0.000000       0.000000        143.000000  \n",
       "25%         3.000000       0.000000       0.000000      15716.000000  \n",
       "50%         7.000000       0.000000       0.000000      54183.000000  \n",
       "75%        10.000000       0.000000       1.000000     265466.000000  \n",
       "max        12.000000       1.000000       1.000000     265466.000000  "
      ],
      "text/html": [
       "<div>\n",
       "<style scoped>\n",
       "    .dataframe tbody tr th:only-of-type {\n",
       "        vertical-align: middle;\n",
       "    }\n",
       "\n",
       "    .dataframe tbody tr th {\n",
       "        vertical-align: top;\n",
       "    }\n",
       "\n",
       "    .dataframe thead th {\n",
       "        text-align: right;\n",
       "    }\n",
       "</style>\n",
       "<table border=\"1\" class=\"dataframe\">\n",
       "  <thead>\n",
       "    <tr style=\"text-align: right;\">\n",
       "      <th></th>\n",
       "      <th>Severity</th>\n",
       "      <th>Distance(mi)</th>\n",
       "      <th>Temperature(F)</th>\n",
       "      <th>Wind_Chill(F)</th>\n",
       "      <th>Humidity(%)</th>\n",
       "      <th>Pressure(in)</th>\n",
       "      <th>Visibility(mi)</th>\n",
       "      <th>Wind_Speed(mph)</th>\n",
       "      <th>Precipitation(in)</th>\n",
       "      <th>day_of_week</th>\n",
       "      <th>Hour</th>\n",
       "      <th>Duration_minutes</th>\n",
       "      <th>Month</th>\n",
       "      <th>Is_Holiday</th>\n",
       "      <th>Is_Rush_Hour</th>\n",
       "      <th>accident_density</th>\n",
       "    </tr>\n",
       "  </thead>\n",
       "  <tbody>\n",
       "    <tr>\n",
       "      <th>count</th>\n",
       "      <td>980125.000000</td>\n",
       "      <td>980125.000000</td>\n",
       "      <td>980125.000000</td>\n",
       "      <td>980125.000000</td>\n",
       "      <td>980125.000000</td>\n",
       "      <td>980125.000000</td>\n",
       "      <td>980125.000000</td>\n",
       "      <td>980125.000000</td>\n",
       "      <td>980125.000000</td>\n",
       "      <td>980125.000000</td>\n",
       "      <td>980125.000000</td>\n",
       "      <td>980125.000000</td>\n",
       "      <td>980125.000000</td>\n",
       "      <td>980125.000000</td>\n",
       "      <td>980125.000000</td>\n",
       "      <td>980125.000000</td>\n",
       "    </tr>\n",
       "    <tr>\n",
       "      <th>mean</th>\n",
       "      <td>2.098397</td>\n",
       "      <td>0.539264</td>\n",
       "      <td>63.173163</td>\n",
       "      <td>63.056511</td>\n",
       "      <td>59.083077</td>\n",
       "      <td>29.515937</td>\n",
       "      <td>8.992686</td>\n",
       "      <td>6.095763</td>\n",
       "      <td>0.004134</td>\n",
       "      <td>2.835032</td>\n",
       "      <td>12.359919</td>\n",
       "      <td>121.683419</td>\n",
       "      <td>6.625589</td>\n",
       "      <td>0.030199</td>\n",
       "      <td>0.383923</td>\n",
       "      <td>97873.658777</td>\n",
       "    </tr>\n",
       "    <tr>\n",
       "      <th>std</th>\n",
       "      <td>0.344728</td>\n",
       "      <td>1.414149</td>\n",
       "      <td>13.712230</td>\n",
       "      <td>14.115127</td>\n",
       "      <td>24.410542</td>\n",
       "      <td>0.859444</td>\n",
       "      <td>2.717702</td>\n",
       "      <td>5.475986</td>\n",
       "      <td>0.030002</td>\n",
       "      <td>1.897738</td>\n",
       "      <td>5.853096</td>\n",
       "      <td>1389.254402</td>\n",
       "      <td>3.743528</td>\n",
       "      <td>0.171135</td>\n",
       "      <td>0.486340</td>\n",
       "      <td>104080.308792</td>\n",
       "    </tr>\n",
       "    <tr>\n",
       "      <th>min</th>\n",
       "      <td>1.000000</td>\n",
       "      <td>0.000000</td>\n",
       "      <td>-8.000000</td>\n",
       "      <td>-28.000000</td>\n",
       "      <td>1.000000</td>\n",
       "      <td>16.710000</td>\n",
       "      <td>0.000000</td>\n",
       "      <td>0.000000</td>\n",
       "      <td>0.000000</td>\n",
       "      <td>0.000000</td>\n",
       "      <td>0.000000</td>\n",
       "      <td>3.000000</td>\n",
       "      <td>1.000000</td>\n",
       "      <td>0.000000</td>\n",
       "      <td>0.000000</td>\n",
       "      <td>143.000000</td>\n",
       "    </tr>\n",
       "    <tr>\n",
       "      <th>25%</th>\n",
       "      <td>2.000000</td>\n",
       "      <td>0.000000</td>\n",
       "      <td>54.000000</td>\n",
       "      <td>54.000000</td>\n",
       "      <td>40.000000</td>\n",
       "      <td>29.420000</td>\n",
       "      <td>10.000000</td>\n",
       "      <td>0.000000</td>\n",
       "      <td>0.000000</td>\n",
       "      <td>1.000000</td>\n",
       "      <td>8.000000</td>\n",
       "      <td>44.766667</td>\n",
       "      <td>3.000000</td>\n",
       "      <td>0.000000</td>\n",
       "      <td>0.000000</td>\n",
       "      <td>15716.000000</td>\n",
       "    </tr>\n",
       "    <tr>\n",
       "      <th>50%</th>\n",
       "      <td>2.000000</td>\n",
       "      <td>0.049000</td>\n",
       "      <td>62.000000</td>\n",
       "      <td>62.825993</td>\n",
       "      <td>62.000000</td>\n",
       "      <td>29.800000</td>\n",
       "      <td>10.000000</td>\n",
       "      <td>6.000000</td>\n",
       "      <td>0.000000</td>\n",
       "      <td>3.000000</td>\n",
       "      <td>13.000000</td>\n",
       "      <td>79.416667</td>\n",
       "      <td>7.000000</td>\n",
       "      <td>0.000000</td>\n",
       "      <td>0.000000</td>\n",
       "      <td>54183.000000</td>\n",
       "    </tr>\n",
       "    <tr>\n",
       "      <th>75%</th>\n",
       "      <td>2.000000</td>\n",
       "      <td>0.498000</td>\n",
       "      <td>72.000000</td>\n",
       "      <td>72.000000</td>\n",
       "      <td>80.000000</td>\n",
       "      <td>29.940000</td>\n",
       "      <td>10.000000</td>\n",
       "      <td>9.000000</td>\n",
       "      <td>0.000000</td>\n",
       "      <td>4.000000</td>\n",
       "      <td>17.000000</td>\n",
       "      <td>131.750000</td>\n",
       "      <td>10.000000</td>\n",
       "      <td>0.000000</td>\n",
       "      <td>1.000000</td>\n",
       "      <td>265466.000000</td>\n",
       "    </tr>\n",
       "    <tr>\n",
       "      <th>max</th>\n",
       "      <td>4.000000</td>\n",
       "      <td>75.879997</td>\n",
       "      <td>207.000000</td>\n",
       "      <td>207.000000</td>\n",
       "      <td>100.000000</td>\n",
       "      <td>58.390000</td>\n",
       "      <td>100.000000</td>\n",
       "      <td>1087.000000</td>\n",
       "      <td>10.400000</td>\n",
       "      <td>6.000000</td>\n",
       "      <td>23.000000</td>\n",
       "      <td>525599.983333</td>\n",
       "      <td>12.000000</td>\n",
       "      <td>1.000000</td>\n",
       "      <td>1.000000</td>\n",
       "      <td>265466.000000</td>\n",
       "    </tr>\n",
       "  </tbody>\n",
       "</table>\n",
       "</div>"
      ]
     },
     "execution_count": 13,
     "metadata": {},
     "output_type": "execute_result"
    }
   ],
   "execution_count": 13
  },
  {
   "cell_type": "code",
   "id": "0976c7dd-2db4-40e8-a388-c36375b26026",
   "metadata": {
    "tags": [],
    "ExecuteTime": {
     "end_time": "2025-08-04T13:42:25.321270Z",
     "start_time": "2025-08-04T13:42:20.341974Z"
    }
   },
   "source": [
    "# Removing outliers\n",
    "filtered_df = filtered_df[filtered_df['Wind_Chill(F)'] < 140]\n",
    "filtered_df = filtered_df[filtered_df['Temperature(F)'] < 140]\n",
    "filtered_df = filtered_df[filtered_df['Wind_Speed(mph)'] < 200]\n",
    "filtered_df = filtered_df[(filtered_df['Pressure(in)'] >= 25) & (filtered_df['Pressure(in)'] <= 40)]\n",
    "filtered_df = filtered_df[filtered_df['Distance(mi)'] < 6]\n",
    "filtered_df = filtered_df[filtered_df['Precipitation(in)'] < 6]\n",
    "filtered_df = filtered_df[filtered_df['Duration_minutes'] < 1000]\n",
    "filtered_df = filtered_df[filtered_df['Visibility(mi)'] < 11]\n",
    "filtered_df = filtered_df[filtered_df['Wind_Speed(mph)'] < 150]\n",
    "\n",
    "\n",
    "# Ploting Box plots to visualize outliers\n",
    "numeric_cols = ['Distance(mi)', 'Temperature(F)', 'Humidity(%)', 'Pressure(in)', \n",
    "                'Visibility(mi)', 'Wind_Speed(mph)','Wind_Chill(F)', 'Precipitation(in)', 'Hour', \n",
    "               'Duration_minutes']\n",
    "for col in numeric_cols:\n",
    "    plt.figure(figsize=(8, 4))\n",
    "    sns.boxplot(x=filtered_df[col])\n",
    "    plt.title(f\"Boxplot of {col}\")\n",
    "    plt.show()\n",
    "    \n",
    "    \n",
    "# Dataset Basic Statics\n",
    "filtered_df.describe() "
   ],
   "outputs": [
    {
     "data": {
      "text/plain": [
       "<Figure size 800x400 with 1 Axes>"
      ],
      "image/png": "[encoded data removed]"
     },
     "metadata": {},
     "output_type": "display_data"
    },
    {
     "data": {
      "text/plain": [
       "<Figure size 800x400 with 1 Axes>"
      ],
      "image/png": "[encoded data removed]"
     },
     "metadata": {},
     "output_type": "display_data"
    },
    {
     "data": {
      "text/plain": [
       "<Figure size 800x400 with 1 Axes>"
      ],
      "image/png": "[encoded data removed]"
     },
     "metadata": {},
     "output_type": "display_data"
    },
    {
     "data": {
      "text/plain": [
       "<Figure size 800x400 with 1 Axes>"
      ],
      "image/png": "[encoded data removed]"
     },
     "metadata": {},
     "output_type": "display_data"
    },
    {
     "data": {
      "text/plain": [
       "<Figure size 800x400 with 1 Axes>"
      ],
      "image/png": "[encoded data removed]"
     },
     "metadata": {},
     "output_type": "display_data"
    },
    {
     "data": {
      "text/plain": [
       "<Figure size 800x400 with 1 Axes>"
      ],
      "image/png": "[encoded data removed]"
     },
     "metadata": {},
     "output_type": "display_data"
    },
    {
     "data": {
      "text/plain": [
       "<Figure size 800x400 with 1 Axes>"
      ],
      "image/png": "[encoded data removed]"
     },
     "metadata": {},
     "output_type": "display_data"
    },
    {
     "data": {
      "text/plain": [
       "<Figure size 800x400 with 1 Axes>"
      ],
      "image/png": "[encoded data removed]"
     },
     "metadata": {},
     "output_type": "display_data"
    },
    {
     "data": {
      "text/plain": [
       "<Figure size 800x400 with 1 Axes>"
      ],
      "image/png": "[encoded data removed]"
     },
     "metadata": {},
     "output_type": "display_data"
    },
    {
     "data": {
      "text/plain": [
       "<Figure size 800x400 with 1 Axes>"
      ],
      "image/png": "[encoded data removed]"
     },
     "metadata": {},
     "output_type": "display_data"
    },
    {
     "data": {
      "text/plain": [
       "            Severity   Distance(mi)  Temperature(F)  Wind_Chill(F)  \\\n",
       "count  957018.000000  957018.000000   957018.000000  957018.000000   \n",
       "mean        2.099179       0.427438       63.336023      63.251349   \n",
       "std         0.345108       0.852321       13.499308      13.831255   \n",
       "min         1.000000       0.000000        1.000000     -18.800000   \n",
       "25%         2.000000       0.000000       54.000000      54.000000   \n",
       "50%         2.000000       0.043000       62.000000      62.825993   \n",
       "75%         2.000000       0.467000       72.000000      72.000000   \n",
       "max         4.000000       5.999000      127.000000     127.000000   \n",
       "\n",
       "         Humidity(%)   Pressure(in)  Visibility(mi)  Wind_Speed(mph)  \\\n",
       "count  957018.000000  957018.000000   957018.000000    957018.000000   \n",
       "mean       59.086018      29.559455        8.962617         6.081019   \n",
       "std        24.361008       0.706305        2.262793         5.331431   \n",
       "min         1.000000      25.000000        0.000000         0.000000   \n",
       "25%        40.000000      29.440000       10.000000         0.000000   \n",
       "50%        62.000000      29.800000       10.000000         6.000000   \n",
       "75%        79.000000      29.940000       10.000000         9.000000   \n",
       "max       100.000000      30.580000       10.000000       142.000000   \n",
       "\n",
       "       Precipitation(in)    day_of_week           Hour  Duration_minutes  \\\n",
       "count      957018.000000  957018.000000  957018.000000     957018.000000   \n",
       "mean            0.004086       2.835613      12.370561        108.165578   \n",
       "std             0.025937       1.898680       5.862466        108.228918   \n",
       "min             0.000000       0.000000       0.000000          3.000000   \n",
       "25%             0.000000       1.000000       8.000000         44.716667   \n",
       "50%             0.000000       3.000000      13.000000         79.033333   \n",
       "75%             0.000000       4.000000      17.000000        130.616667   \n",
       "max             5.130000       6.000000      23.000000        999.500000   \n",
       "\n",
       "               Month     Is_Holiday   Is_Rush_Hour  accident_density  \n",
       "count  957018.000000  957018.000000  957018.000000     957018.000000  \n",
       "mean        6.623480       0.030118       0.385657      98276.744169  \n",
       "std         3.740831       0.170911       0.486750     104032.904176  \n",
       "min         1.000000       0.000000       0.000000        143.000000  \n",
       "25%         3.000000       0.000000       0.000000      22071.000000  \n",
       "50%         7.000000       0.000000       0.000000      54183.000000  \n",
       "75%        10.000000       0.000000       1.000000     265466.000000  \n",
       "max        12.000000       1.000000       1.000000     265466.000000  "
      ],
      "text/html": [
       "<div>\n",
       "<style scoped>\n",
       "    .dataframe tbody tr th:only-of-type {\n",
       "        vertical-align: middle;\n",
       "    }\n",
       "\n",
       "    .dataframe tbody tr th {\n",
       "        vertical-align: top;\n",
       "    }\n",
       "\n",
       "    .dataframe thead th {\n",
       "        text-align: right;\n",
       "    }\n",
       "</style>\n",
       "<table border=\"1\" class=\"dataframe\">\n",
       "  <thead>\n",
       "    <tr style=\"text-align: right;\">\n",
       "      <th></th>\n",
       "      <th>Severity</th>\n",
       "      <th>Distance(mi)</th>\n",
       "      <th>Temperature(F)</th>\n",
       "      <th>Wind_Chill(F)</th>\n",
       "      <th>Humidity(%)</th>\n",
       "      <th>Pressure(in)</th>\n",
       "      <th>Visibility(mi)</th>\n",
       "      <th>Wind_Speed(mph)</th>\n",
       "      <th>Precipitation(in)</th>\n",
       "      <th>day_of_week</th>\n",
       "      <th>Hour</th>\n",
       "      <th>Duration_minutes</th>\n",
       "      <th>Month</th>\n",
       "      <th>Is_Holiday</th>\n",
       "      <th>Is_Rush_Hour</th>\n",
       "      <th>accident_density</th>\n",
       "    </tr>\n",
       "  </thead>\n",
       "  <tbody>\n",
       "    <tr>\n",
       "      <th>count</th>\n",
       "      <td>957018.000000</td>\n",
       "      <td>957018.000000</td>\n",
       "      <td>957018.000000</td>\n",
       "      <td>957018.000000</td>\n",
       "      <td>957018.000000</td>\n",
       "      <td>957018.000000</td>\n",
       "      <td>957018.000000</td>\n",
       "      <td>957018.000000</td>\n",
       "      <td>957018.000000</td>\n",
       "      <td>957018.000000</td>\n",
       "      <td>957018.000000</td>\n",
       "      <td>957018.000000</td>\n",
       "      <td>957018.000000</td>\n",
       "      <td>957018.000000</td>\n",
       "      <td>957018.000000</td>\n",
       "      <td>957018.000000</td>\n",
       "    </tr>\n",
       "    <tr>\n",
       "      <th>mean</th>\n",
       "      <td>2.099179</td>\n",
       "      <td>0.427438</td>\n",
       "      <td>63.336023</td>\n",
       "      <td>63.251349</td>\n",
       "      <td>59.086018</td>\n",
       "      <td>29.559455</td>\n",
       "      <td>8.962617</td>\n",
       "      <td>6.081019</td>\n",
       "      <td>0.004086</td>\n",
       "      <td>2.835613</td>\n",
       "      <td>12.370561</td>\n",
       "      <td>108.165578</td>\n",
       "      <td>6.623480</td>\n",
       "      <td>0.030118</td>\n",
       "      <td>0.385657</td>\n",
       "      <td>98276.744169</td>\n",
       "    </tr>\n",
       "    <tr>\n",
       "      <th>std</th>\n",
       "      <td>0.345108</td>\n",
       "      <td>0.852321</td>\n",
       "      <td>13.499308</td>\n",
       "      <td>13.831255</td>\n",
       "      <td>24.361008</td>\n",
       "      <td>0.706305</td>\n",
       "      <td>2.262793</td>\n",
       "      <td>5.331431</td>\n",
       "      <td>0.025937</td>\n",
       "      <td>1.898680</td>\n",
       "      <td>5.862466</td>\n",
       "      <td>108.228918</td>\n",
       "      <td>3.740831</td>\n",
       "      <td>0.170911</td>\n",
       "      <td>0.486750</td>\n",
       "      <td>104032.904176</td>\n",
       "    </tr>\n",
       "    <tr>\n",
       "      <th>min</th>\n",
       "      <td>1.000000</td>\n",
       "      <td>0.000000</td>\n",
       "      <td>1.000000</td>\n",
       "      <td>-18.800000</td>\n",
       "      <td>1.000000</td>\n",
       "      <td>25.000000</td>\n",
       "      <td>0.000000</td>\n",
       "      <td>0.000000</td>\n",
       "      <td>0.000000</td>\n",
       "      <td>0.000000</td>\n",
       "      <td>0.000000</td>\n",
       "      <td>3.000000</td>\n",
       "      <td>1.000000</td>\n",
       "      <td>0.000000</td>\n",
       "      <td>0.000000</td>\n",
       "      <td>143.000000</td>\n",
       "    </tr>\n",
       "    <tr>\n",
       "      <th>25%</th>\n",
       "      <td>2.000000</td>\n",
       "      <td>0.000000</td>\n",
       "      <td>54.000000</td>\n",
       "      <td>54.000000</td>\n",
       "      <td>40.000000</td>\n",
       "      <td>29.440000</td>\n",
       "      <td>10.000000</td>\n",
       "      <td>0.000000</td>\n",
       "      <td>0.000000</td>\n",
       "      <td>1.000000</td>\n",
       "      <td>8.000000</td>\n",
       "      <td>44.716667</td>\n",
       "      <td>3.000000</td>\n",
       "      <td>0.000000</td>\n",
       "      <td>0.000000</td>\n",
       "      <td>22071.000000</td>\n",
       "    </tr>\n",
       "    <tr>\n",
       "      <th>50%</th>\n",
       "      <td>2.000000</td>\n",
       "      <td>0.043000</td>\n",
       "      <td>62.000000</td>\n",
       "      <td>62.825993</td>\n",
       "      <td>62.000000</td>\n",
       "      <td>29.800000</td>\n",
       "      <td>10.000000</td>\n",
       "      <td>6.000000</td>\n",
       "      <td>0.000000</td>\n",
       "      <td>3.000000</td>\n",
       "      <td>13.000000</td>\n",
       "      <td>79.033333</td>\n",
       "      <td>7.000000</td>\n",
       "      <td>0.000000</td>\n",
       "      <td>0.000000</td>\n",
       "      <td>54183.000000</td>\n",
       "    </tr>\n",
       "    <tr>\n",
       "      <th>75%</th>\n",
       "      <td>2.000000</td>\n",
       "      <td>0.467000</td>\n",
       "      <td>72.000000</td>\n",
       "      <td>72.000000</td>\n",
       "      <td>79.000000</td>\n",
       "      <td>29.940000</td>\n",
       "      <td>10.000000</td>\n",
       "      <td>9.000000</td>\n",
       "      <td>0.000000</td>\n",
       "      <td>4.000000</td>\n",
       "      <td>17.000000</td>\n",
       "      <td>130.616667</td>\n",
       "      <td>10.000000</td>\n",
       "      <td>0.000000</td>\n",
       "      <td>1.000000</td>\n",
       "      <td>265466.000000</td>\n",
       "    </tr>\n",
       "    <tr>\n",
       "      <th>max</th>\n",
       "      <td>4.000000</td>\n",
       "      <td>5.999000</td>\n",
       "      <td>127.000000</td>\n",
       "      <td>127.000000</td>\n",
       "      <td>100.000000</td>\n",
       "      <td>30.580000</td>\n",
       "      <td>10.000000</td>\n",
       "      <td>142.000000</td>\n",
       "      <td>5.130000</td>\n",
       "      <td>6.000000</td>\n",
       "      <td>23.000000</td>\n",
       "      <td>999.500000</td>\n",
       "      <td>12.000000</td>\n",
       "      <td>1.000000</td>\n",
       "      <td>1.000000</td>\n",
       "      <td>265466.000000</td>\n",
       "    </tr>\n",
       "  </tbody>\n",
       "</table>\n",
       "</div>"
      ]
     },
     "execution_count": 14,
     "metadata": {},
     "output_type": "execute_result"
    }
   ],
   "execution_count": 14
  },
  {
   "cell_type": "markdown",
   "id": "d2ee7fb7-11ee-4d34-aa05-068a2583c593",
   "metadata": {},
   "source": [
    "##  Grouping Data Categorical Encoding/ One Hot encoding "
   ]
  },
  {
   "cell_type": "code",
   "id": "61b408ab-322b-48d3-8562-7693b1fe3332",
   "metadata": {
    "tags": [],
    "ExecuteTime": {
     "end_time": "2025-08-04T13:42:25.529158Z",
     "start_time": "2025-08-04T13:42:25.381651Z"
    }
   },
   "source": [
    "# Plot for Presentation and Report \n",
    "# Dictionary of column names and their unique value counts\n",
    "unique_counts = {\n",
    "    'City': filtered_df['City'].nunique(),\n",
    "    'County': filtered_df['County'].nunique(),\n",
    "    'Wind Direction': filtered_df['Wind_Direction'].nunique(),\n",
    "    'Weather Condition': filtered_df['Weather_Condition'].nunique(),\n",
    "    'Zipcode': filtered_df['Zipcode'].nunique()\n",
    "}\n",
    "\n",
    "# Convert to DataFrame for plotting\n",
    "unique_df = pd.DataFrame(list(unique_counts.items()), columns=['Feature', 'Unique Values'])\n",
    "\n",
    "# Plot\n",
    "plt.figure(figsize=(8, 5))\n",
    "sns.barplot(data=unique_df, x='Feature', y='Unique Values', palette='mako')\n",
    "plt.title(\"Number of Unique Categories per Feature(Before Data Grouping)\", fontweight='bold')\n",
    "plt.ylabel(\"Unique Value Count\")\n",
    "plt.xlabel(\"Categorical Feature\")\n",
    "plt.tight_layout()\n",
    "plt.ylim(0, 2000) \n",
    "plt.show()\n"
   ],
   "outputs": [
    {
     "name": "stderr",
     "output_type": "stream",
     "text": [
      "/var/folders/m8/x0f9131s0bnfbnqp15hmpbpw0000gn/T/ipykernel_19763/54172949.py:16: FutureWarning: \n",
      "\n",
      "Passing `palette` without assigning `hue` is deprecated and will be removed in v0.14.0. Assign the `x` variable to `hue` and set `legend=False` for the same effect.\n",
      "\n",
      "  sns.barplot(data=unique_df, x='Feature', y='Unique Values', palette='mako')\n"
     ]
    },
    {
     "data": {
      "text/plain": [
       "<Figure size 800x500 with 1 Axes>"
      ],
      "image/png": "[encoded data removed]"
     },
     "metadata": {},
     "output_type": "display_data"
    }
   ],
   "execution_count": 15
  },
  {
   "cell_type": "code",
   "id": "a9930524-1734-4299-a331-57dd677a63a9",
   "metadata": {
    "tags": [],
    "ExecuteTime": {
     "end_time": "2025-08-04T13:42:26.077560Z",
     "start_time": "2025-08-04T13:42:25.554080Z"
    }
   },
   "source": [
    "# The raw city column as more than 1000 cities,some of the cities have limited accident data.\n",
    "# So grouping and using threshold the best option considering our skill level.\n",
    "\n",
    "# Looking for the optimal threshold value\n",
    "city_counts = filtered_df['City'].value_counts()\n",
    "for t in [1000,2500,5000,10000]:\n",
    "    print(f\"Threshold {t}: Cities kept = {(city_counts >= t).sum()}\")\n",
    "\n",
    "#Get frequency of each city\n",
    "city_counts = filtered_df['City'].value_counts()\n",
    "\n",
    "# Setting the threshold as 10000\n",
    "threshold = 10000\n",
    "common_cities = city_counts[city_counts >= threshold].index\n",
    "\n",
    "# Replace rare cities with \"Other\"\n",
    "filtered_df['City'] = filtered_df['City'].apply(lambda x: x if x in common_cities else 'Other')\n",
    "\n",
    "# Confirm City unique\n",
    "print(f\"Unique Cities After Grouping:{filtered_df['City'].nunique()}\")\n",
    "\n",
    "# Final City Column\n",
    "filtered_df['City'].value_counts()"
   ],
   "outputs": [
    {
     "name": "stdout",
     "output_type": "stream",
     "text": [
      "Threshold 1000: Cities kept = 202\n",
      "Threshold 2500: Cities kept = 82\n",
      "Threshold 5000: Cities kept = 26\n",
      "Threshold 10000: Cities kept = 13\n",
      "Unique Cities After Grouping:14\n"
     ]
    },
    {
     "data": {
      "text/plain": [
       "City\n",
       "Other             673357\n",
       "Los Angeles        88984\n",
       "San Diego          33515\n",
       "Sacramento         28978\n",
       "Riverside          16053\n",
       "Bakersfield        15792\n",
       "Oakland            14165\n",
       "San Bernardino     13933\n",
       "Fresno             12678\n",
       "Anaheim            12616\n",
       "San Jose           12299\n",
       "Ontario            12110\n",
       "Long Beach         11911\n",
       "San Francisco      10627\n",
       "Name: count, dtype: int64"
      ]
     },
     "execution_count": 16,
     "metadata": {},
     "output_type": "execute_result"
    }
   ],
   "execution_count": 16
  },
  {
   "cell_type": "code",
   "id": "fa60fb0a-5e41-4af9-865e-29c21ee2d84a",
   "metadata": {
    "tags": [],
    "ExecuteTime": {
     "end_time": "2025-08-04T13:42:26.188498Z",
     "start_time": "2025-08-04T13:42:26.101712Z"
    }
   },
   "source": [
    "# The raw Zipcode column as more than 1525 Zipcode\n",
    "# We need to Zipcode column into a manageable column with few unique zipcode\n",
    "# 1525 Zipcode after hot one encoding will become 1525 extra columns, which is awfull for training\n",
    "\n",
    "# Zipcode - Keeping only the first three digits\n",
    "print(f\"Unique Zipcodes Before Grouping:{filtered_df['Zipcode'].nunique()}\")\n",
    "filtered_df['Zipcode_Group'] = filtered_df['Zipcode'].astype(str).str[:3]\n",
    "print(f\"Unique Zipcodes After Grouping:{filtered_df['Zipcode_Group'].nunique()}\")\n",
    "\n",
    "# Use zipcode when using XBG/Random forest, and use Zipcode_Group for SVM\n",
    "filtered_df.shape"
   ],
   "outputs": [
    {
     "name": "stdout",
     "output_type": "stream",
     "text": [
      "Unique Zipcodes Before Grouping:1525\n",
      "Unique Zipcodes After Grouping:57\n"
     ]
    },
    {
     "data": {
      "text/plain": [
       "(957018, 22)"
      ]
     },
     "execution_count": 17,
     "metadata": {},
     "output_type": "execute_result"
    }
   ],
   "execution_count": 17
  },
  {
   "cell_type": "code",
   "id": "958fd055-ec7d-43ef-b90c-8b91097a6ad5",
   "metadata": {
    "tags": [],
    "ExecuteTime": {
     "end_time": "2025-08-04T13:42:26.419736Z",
     "start_time": "2025-08-04T13:42:26.203199Z"
    }
   },
   "source": [
    "# Same reasons and logic used  from City grouping \n",
    "\n",
    "Weather_Condition_counts = filtered_df['Weather_Condition'].value_counts()\n",
    "for t in [500, 750, 1000]:\n",
    "    print(f\"Threshold {t}: Weather_Condition kept = {(Weather_Condition_counts >= t).sum()}\")\n",
    "     \n",
    "# Setting the threshold as 1000\n",
    "threshold = 1000 \n",
    "common_weather = Weather_Condition_counts[Weather_Condition_counts >= threshold].index\n",
    "\n",
    "# Replace rare Weather Conditions with \"Other\"\n",
    "filtered_df[\"Weather_Condition\"] = filtered_df[\"Weather_Condition\"].apply(\n",
    "    lambda x: x if x in common_weather else \"Other\"\n",
    ")\n",
    "\n",
    "# Confirm unique Weather Conditions unique\n",
    "print(f\"Unique Weather Conditions After Grouping:{filtered_df['Weather_Condition'].nunique()}\")\n"
   ],
   "outputs": [
    {
     "name": "stdout",
     "output_type": "stream",
     "text": [
      "Threshold 500: Weather_Condition kept = 19\n",
      "Threshold 750: Weather_Condition kept = 16\n",
      "Threshold 1000: Weather_Condition kept = 15\n",
      "Unique Weather Conditions After Grouping:16\n"
     ]
    }
   ],
   "execution_count": 18
  },
  {
   "cell_type": "code",
   "id": "432faad4-05cd-43d6-b3d3-b22929cef774",
   "metadata": {
    "tags": [],
    "ExecuteTime": {
     "end_time": "2025-08-04T13:42:26.937593Z",
     "start_time": "2025-08-04T13:42:26.436355Z"
    }
   },
   "source": [
    "# Keeping only top 20 Counties and marking the remaining as other\n",
    "top20 = filtered_df['County'].value_counts().head(20).index\n",
    "filtered_df['County'] = filtered_df['County'].apply(lambda x: x if x in top20 else 'Other')\n",
    "\n",
    "# Doing the Zipcode_Group\n",
    "top30 = filtered_df['Zipcode_Group'].value_counts().head(30).index\n",
    "filtered_df['Zipcode_Group'] = filtered_df['Zipcode_Group'].apply(lambda x: x if x in top30 else 'Other')"
   ],
   "outputs": [],
   "execution_count": 19
  },
  {
   "cell_type": "code",
   "id": "28491319-1c49-438a-8fe3-933fa56362ad",
   "metadata": {
    "tags": [],
    "ExecuteTime": {
     "end_time": "2025-08-04T13:42:27.087595Z",
     "start_time": "2025-08-04T13:42:26.945370Z"
    }
   },
   "source": [
    "# Plot for Presentation and Report\n",
    "# Dictionary of column names and their unique value counts\n",
    "unique_counts = {\n",
    "    'City': filtered_df['City'].nunique(),\n",
    "    'County': filtered_df['County'].nunique(),\n",
    "    'Wind Direction': filtered_df['Wind_Direction'].nunique(),\n",
    "    'Weather Condition': filtered_df['Weather_Condition'].nunique(),\n",
    "    'Zipcode_Group': filtered_df['Zipcode_Group'].nunique()\n",
    "}\n",
    "\n",
    "# Convert to DataFrame for plotting\n",
    "unique_df = pd.DataFrame(list(unique_counts.items()), columns=['Feature', 'Unique Values'])\n",
    "\n",
    "# Plot\n",
    "plt.figure(figsize=(8, 5))\n",
    "sns.barplot(data=unique_df, x='Feature', y='Unique Values', palette='mako')\n",
    "plt.title(\"Number of Unique Categories per Feature\", fontweight='bold')\n",
    "plt.ylabel(\"Unique Value Count\")\n",
    "plt.xlabel(\"Categorical Feature\")\n",
    "plt.tight_layout()\n",
    "plt.show()\n"
   ],
   "outputs": [
    {
     "name": "stderr",
     "output_type": "stream",
     "text": [
      "/var/folders/m8/x0f9131s0bnfbnqp15hmpbpw0000gn/T/ipykernel_19763/2718041282.py:16: FutureWarning: \n",
      "\n",
      "Passing `palette` without assigning `hue` is deprecated and will be removed in v0.14.0. Assign the `x` variable to `hue` and set `legend=False` for the same effect.\n",
      "\n",
      "  sns.barplot(data=unique_df, x='Feature', y='Unique Values', palette='mako')\n"
     ]
    },
    {
     "data": {
      "text/plain": [
       "<Figure size 800x500 with 1 Axes>"
      ],
      "image/png": "[encoded data removed]"
     },
     "metadata": {},
     "output_type": "display_data"
    }
   ],
   "execution_count": 20
  },
  {
   "cell_type": "code",
   "id": "05159d97-5ea8-4f58-8bd1-ff6d89e2db53",
   "metadata": {
    "ExecuteTime": {
     "end_time": "2025-08-04T13:42:27.204772Z",
     "start_time": "2025-08-04T13:42:27.095825Z"
    }
   },
   "source": [
    "# Plot for Presentation and Report\n",
    "# Group by County\n",
    "county_density = (\n",
    "    filtered_df.groupby('County')['accident_density']\n",
    "    .max()  # or use .max() if you prefer\n",
    "    .sort_values(ascending=False)\n",
    "    .head(20)\n",
    "    .reset_index()\n",
    ")\n",
    "\n",
    "# Plot\n",
    "plt.figure(figsize=(10, 6))\n",
    "sns.barplot(data=county_density, x='accident_density', y='County', palette='mako')\n",
    "plt.title(\"Top 20 Counties by Average Accident Density\", fontweight='bold')\n",
    "plt.xlabel(\"Average Accident Density\")\n",
    "plt.ylabel(\"County\")\n",
    "plt.tight_layout()\n",
    "plt.show()\n"
   ],
   "outputs": [
    {
     "name": "stderr",
     "output_type": "stream",
     "text": [
      "/var/folders/m8/x0f9131s0bnfbnqp15hmpbpw0000gn/T/ipykernel_19763/3345143008.py:13: FutureWarning: \n",
      "\n",
      "Passing `palette` without assigning `hue` is deprecated and will be removed in v0.14.0. Assign the `y` variable to `hue` and set `legend=False` for the same effect.\n",
      "\n",
      "  sns.barplot(data=county_density, x='accident_density', y='County', palette='mako')\n"
     ]
    },
    {
     "data": {
      "text/plain": [
       "<Figure size 1000x600 with 1 Axes>"
      ],
      "image/png": "[encoded data removed]"
     },
     "metadata": {},
     "output_type": "display_data"
    }
   ],
   "execution_count": 21
  },
  {
   "cell_type": "code",
   "id": "682bb831-8d2f-4148-afa9-92908a8837ec",
   "metadata": {
    "tags": [],
    "ExecuteTime": {
     "end_time": "2025-08-04T13:42:27.320551Z",
     "start_time": "2025-08-04T13:42:27.213178Z"
    }
   },
   "source": [
    "# Final Analysis \n",
    "print(f\"City: {filtered_df['City'].nunique()}\")\n",
    "print(f\"County: {filtered_df['County'].nunique()}\")\n",
    "print(f\"Wind_Direction: {filtered_df['Wind_Direction'].nunique()}\")\n",
    "print(f\"Weather_Condition: {filtered_df['Weather_Condition'].nunique()}\")\n",
    "print(f\"Zipcode_Group: {filtered_df['Zipcode_Group'].nunique()}\")\n",
    "filtered_df.dtypes"
   ],
   "outputs": [
    {
     "name": "stdout",
     "output_type": "stream",
     "text": [
      "City: 14\n",
      "County: 21\n",
      "Wind_Direction: 23\n",
      "Weather_Condition: 16\n",
      "Zipcode_Group: 31\n"
     ]
    },
    {
     "data": {
      "text/plain": [
       "Severity               int64\n",
       "Distance(mi)         float64\n",
       "City                  object\n",
       "County                object\n",
       "Zipcode               object\n",
       "Temperature(F)       float64\n",
       "Wind_Chill(F)        float64\n",
       "Humidity(%)          float64\n",
       "Pressure(in)         float64\n",
       "Visibility(mi)       float64\n",
       "Wind_Direction        object\n",
       "Wind_Speed(mph)      float64\n",
       "Precipitation(in)    float64\n",
       "Weather_Condition     object\n",
       "day_of_week            int32\n",
       "Hour                   int64\n",
       "Duration_minutes     float64\n",
       "Month                  int32\n",
       "Is_Holiday             int64\n",
       "Is_Rush_Hour           int64\n",
       "accident_density       int64\n",
       "Zipcode_Group         object\n",
       "dtype: object"
      ]
     },
     "execution_count": 22,
     "metadata": {},
     "output_type": "execute_result"
    }
   ],
   "execution_count": 22
  },
  {
   "cell_type": "code",
   "id": "01aabc2c-643f-4ceb-901b-44ab060c13b8",
   "metadata": {
    "tags": [],
    "ExecuteTime": {
     "end_time": "2025-08-04T13:42:27.622091Z",
     "start_time": "2025-08-04T13:42:27.404462Z"
    }
   },
   "source": [
    "#Peforming One hot encoding\n",
    "filtered_df = pd.get_dummies(filtered_df, columns=['City',\"County\",'Wind_Direction',\"Weather_Condition\",\"Zipcode_Group\"])\n",
    "\n",
    "# Final Shape\n",
    "filtered_df.shape"
   ],
   "outputs": [
    {
     "data": {
      "text/plain": [
       "(957018, 122)"
      ]
     },
     "execution_count": 23,
     "metadata": {},
     "output_type": "execute_result"
    }
   ],
   "execution_count": 23
  },
  {
   "cell_type": "code",
   "id": "22111945-fac7-4ae0-868a-da33f45c2094",
   "metadata": {
    "tags": [],
    "ExecuteTime": {
     "end_time": "2025-08-04T13:42:27.647562Z",
     "start_time": "2025-08-04T13:42:27.642129Z"
    }
   },
   "source": [
    "filtered_df.head(3)"
   ],
   "outputs": [
    {
     "data": {
      "text/plain": [
       "     Severity  Distance(mi) Zipcode  Temperature(F)  Wind_Chill(F)  \\\n",
       "230         3           0.0   94534            55.9      62.825993   \n",
       "240         3           0.0   94534            54.0      62.825993   \n",
       "919         3           0.0   94541            60.1      62.825993   \n",
       "\n",
       "     Humidity(%)  Pressure(in)  Visibility(mi)  Wind_Speed(mph)  \\\n",
       "230         80.0         29.96            10.0              9.2   \n",
       "240         83.0         29.98            10.0              5.8   \n",
       "919         67.0         30.04            10.0             11.5   \n",
       "\n",
       "     Precipitation(in)  ...  Zipcode_Group_946  Zipcode_Group_950  \\\n",
       "230                0.0  ...              False              False   \n",
       "240                0.0  ...              False              False   \n",
       "919                0.0  ...              False              False   \n",
       "\n",
       "     Zipcode_Group_951  Zipcode_Group_952  Zipcode_Group_953  \\\n",
       "230              False              False              False   \n",
       "240              False              False              False   \n",
       "919              False              False              False   \n",
       "\n",
       "     Zipcode_Group_954  Zipcode_Group_956  Zipcode_Group_958  \\\n",
       "230              False              False              False   \n",
       "240              False              False              False   \n",
       "919              False              False              False   \n",
       "\n",
       "     Zipcode_Group_959  Zipcode_Group_Other  \n",
       "230              False                False  \n",
       "240              False                False  \n",
       "919              False                False  \n",
       "\n",
       "[3 rows x 122 columns]"
      ],
      "text/html": [
       "<div>\n",
       "<style scoped>\n",
       "    .dataframe tbody tr th:only-of-type {\n",
       "        vertical-align: middle;\n",
       "    }\n",
       "\n",
       "    .dataframe tbody tr th {\n",
       "        vertical-align: top;\n",
       "    }\n",
       "\n",
       "    .dataframe thead th {\n",
       "        text-align: right;\n",
       "    }\n",
       "</style>\n",
       "<table border=\"1\" class=\"dataframe\">\n",
       "  <thead>\n",
       "    <tr style=\"text-align: right;\">\n",
       "      <th></th>\n",
       "      <th>Severity</th>\n",
       "      <th>Distance(mi)</th>\n",
       "      <th>Zipcode</th>\n",
       "      <th>Temperature(F)</th>\n",
       "      <th>Wind_Chill(F)</th>\n",
       "      <th>Humidity(%)</th>\n",
       "      <th>Pressure(in)</th>\n",
       "      <th>Visibility(mi)</th>\n",
       "      <th>Wind_Speed(mph)</th>\n",
       "      <th>Precipitation(in)</th>\n",
       "      <th>...</th>\n",
       "      <th>Zipcode_Group_946</th>\n",
       "      <th>Zipcode_Group_950</th>\n",
       "      <th>Zipcode_Group_951</th>\n",
       "      <th>Zipcode_Group_952</th>\n",
       "      <th>Zipcode_Group_953</th>\n",
       "      <th>Zipcode_Group_954</th>\n",
       "      <th>Zipcode_Group_956</th>\n",
       "      <th>Zipcode_Group_958</th>\n",
       "      <th>Zipcode_Group_959</th>\n",
       "      <th>Zipcode_Group_Other</th>\n",
       "    </tr>\n",
       "  </thead>\n",
       "  <tbody>\n",
       "    <tr>\n",
       "      <th>230</th>\n",
       "      <td>3</td>\n",
       "      <td>0.0</td>\n",
       "      <td>94534</td>\n",
       "      <td>55.9</td>\n",
       "      <td>62.825993</td>\n",
       "      <td>80.0</td>\n",
       "      <td>29.96</td>\n",
       "      <td>10.0</td>\n",
       "      <td>9.2</td>\n",
       "      <td>0.0</td>\n",
       "      <td>...</td>\n",
       "      <td>False</td>\n",
       "      <td>False</td>\n",
       "      <td>False</td>\n",
       "      <td>False</td>\n",
       "      <td>False</td>\n",
       "      <td>False</td>\n",
       "      <td>False</td>\n",
       "      <td>False</td>\n",
       "      <td>False</td>\n",
       "      <td>False</td>\n",
       "    </tr>\n",
       "    <tr>\n",
       "      <th>240</th>\n",
       "      <td>3</td>\n",
       "      <td>0.0</td>\n",
       "      <td>94534</td>\n",
       "      <td>54.0</td>\n",
       "      <td>62.825993</td>\n",
       "      <td>83.0</td>\n",
       "      <td>29.98</td>\n",
       "      <td>10.0</td>\n",
       "      <td>5.8</td>\n",
       "      <td>0.0</td>\n",
       "      <td>...</td>\n",
       "      <td>False</td>\n",
       "      <td>False</td>\n",
       "      <td>False</td>\n",
       "      <td>False</td>\n",
       "      <td>False</td>\n",
       "      <td>False</td>\n",
       "      <td>False</td>\n",
       "      <td>False</td>\n",
       "      <td>False</td>\n",
       "      <td>False</td>\n",
       "    </tr>\n",
       "    <tr>\n",
       "      <th>919</th>\n",
       "      <td>3</td>\n",
       "      <td>0.0</td>\n",
       "      <td>94541</td>\n",
       "      <td>60.1</td>\n",
       "      <td>62.825993</td>\n",
       "      <td>67.0</td>\n",
       "      <td>30.04</td>\n",
       "      <td>10.0</td>\n",
       "      <td>11.5</td>\n",
       "      <td>0.0</td>\n",
       "      <td>...</td>\n",
       "      <td>False</td>\n",
       "      <td>False</td>\n",
       "      <td>False</td>\n",
       "      <td>False</td>\n",
       "      <td>False</td>\n",
       "      <td>False</td>\n",
       "      <td>False</td>\n",
       "      <td>False</td>\n",
       "      <td>False</td>\n",
       "      <td>False</td>\n",
       "    </tr>\n",
       "  </tbody>\n",
       "</table>\n",
       "<p>3 rows × 122 columns</p>\n",
       "</div>"
      ]
     },
     "execution_count": 24,
     "metadata": {},
     "output_type": "execute_result"
    }
   ],
   "execution_count": 24
  },
  {
   "cell_type": "code",
   "id": "97e0e4c1-fb70-4be5-8905-c43f7410dbf1",
   "metadata": {
    "tags": [],
    "ExecuteTime": {
     "end_time": "2025-08-04T13:42:27.888002Z",
     "start_time": "2025-08-04T13:42:27.688469Z"
    }
   },
   "source": [
    "# Memory usage before down casting\n",
    "before = filtered_df.memory_usage(deep=True).sum() /  1048576   # Convert to MB\n",
    "print(f\"Memory usage before down casting: {before:.2f} MB\")\n",
    "# Down casting for memory management\n",
    "filtered_df[\"Severity\"] = filtered_df[\"Severity\"].astype(\"int8\")\n",
    "filtered_df[\"Distance(mi)\"] = pd.to_numeric(filtered_df[\"Distance(mi)\"], downcast=\"float\")\n",
    "filtered_df[\"Temperature(F)\"] = pd.to_numeric(filtered_df[\"Temperature(F)\"], downcast=\"float\")\n",
    "filtered_df[\"Wind_Chill(F)\"] = pd.to_numeric(filtered_df[\"Wind_Chill(F)\"], downcast=\"float\")\n",
    "filtered_df[\"Humidity(%)\"] = pd.to_numeric(filtered_df[\"Humidity(%)\"], downcast=\"float\")\n",
    "filtered_df[\"Pressure(in)\"] = pd.to_numeric(filtered_df[\"Pressure(in)\"], downcast=\"float\")\n",
    "filtered_df[\"Visibility(mi)\"] = pd.to_numeric(filtered_df[\"Visibility(mi)\"], downcast=\"float\")\n",
    "filtered_df[\"Wind_Speed(mph)\"] = pd.to_numeric(filtered_df[\"Wind_Speed(mph)\"], downcast=\"float\")\n",
    "filtered_df[\"Precipitation(in)\"] = pd.to_numeric(filtered_df[\"Precipitation(in)\"], downcast=\"float\")\n",
    "filtered_df[\"Duration_minutes\"] = pd.to_numeric(filtered_df[\"Duration_minutes\"], downcast=\"float\")\n",
    "\n",
    "# Memory usage after down casting\n",
    "after = filtered_df.memory_usage(deep=True).sum() / 1048576\n",
    "print(f\"Memory usage after down casting: {after:.2f} MB\")\n",
    "memory_saved = (before -after)/before * 100\n",
    "print(f\"Memory usage reduced by: {memory_saved:.2f}%\")\n",
    "\n",
    "bool_cols = filtered_df.select_dtypes(include='bool').columns\n",
    "filtered_df[bool_cols] = filtered_df[bool_cols].astype(\"int8\")\n",
    "\n",
    "\n",
    "for col in [\"day_of_week\", \"Hour\", \"Month\", \"Is_Holiday\", \"Is_Rush_Hour\"]:\n",
    "    filtered_df[col] = filtered_df[col].astype(\"int8\")\n",
    "\n"
   ],
   "outputs": [
    {
     "name": "stdout",
     "output_type": "stream",
     "text": [
      "Memory usage before down casting: 261.94 MB\n",
      "Memory usage after down casting: 222.69 MB\n",
      "Memory usage reduced by: 14.98%\n"
     ]
    }
   ],
   "execution_count": 25
  },
  {
   "cell_type": "code",
   "id": "0aeb3c17-a0a0-4dc8-bffb-ae25ad41a57b",
   "metadata": {
    "tags": [],
    "ExecuteTime": {
     "end_time": "2025-08-04T13:42:27.915657Z",
     "start_time": "2025-08-04T13:42:27.913381Z"
    }
   },
   "source": [
    "filtered_df.dtypes"
   ],
   "outputs": [
    {
     "data": {
      "text/plain": [
       "Severity                  int8\n",
       "Distance(mi)           float32\n",
       "Zipcode                 object\n",
       "Temperature(F)         float32\n",
       "Wind_Chill(F)          float32\n",
       "                        ...   \n",
       "Zipcode_Group_954         int8\n",
       "Zipcode_Group_956         int8\n",
       "Zipcode_Group_958         int8\n",
       "Zipcode_Group_959         int8\n",
       "Zipcode_Group_Other       int8\n",
       "Length: 122, dtype: object"
      ]
     },
     "execution_count": 26,
     "metadata": {},
     "output_type": "execute_result"
    }
   ],
   "execution_count": 26
  },
  {
   "metadata": {},
   "cell_type": "markdown",
   "source": "### Later Addition",
   "id": "11c71f6669f27035"
  },
  {
   "metadata": {
    "ExecuteTime": {
     "end_time": "2025-08-04T13:42:28.076574Z",
     "start_time": "2025-08-04T13:42:27.978188Z"
    }
   },
   "cell_type": "code",
   "source": [
    "# Removing more columns, after a bit of running these columns have no impact on model_development performance\n",
    "filtered_df = filtered_df.drop(columns=[\"Duration_minutes\",\"accident_density\",\"Distance(mi)\"])"
   ],
   "id": "a733699928f78a71",
   "outputs": [],
   "execution_count": 27
  },
  {
   "cell_type": "code",
   "id": "d2d920e9-6bb7-44d2-bce3-589244b5151e",
   "metadata": {
    "tags": [],
    "ExecuteTime": {
     "end_time": "2025-08-04T13:42:28.322499Z",
     "start_time": "2025-08-04T13:42:28.094855Z"
    }
   },
   "source": [
    "import joblib\n",
    "# Import All the Dependencies\n",
    "from sklearn.preprocessing import StandardScaler\n",
    "\n",
    "# Since we are clustering normalization is critical for perfect clusters\n",
    "# Why Standardization over normalization\n",
    "# It handles outliers better.\n",
    "# It makes the mean around 0 with a standard deviation of 1.\n",
    "# Clustering algorithms like KMeans use distances, so all features need to be on the same scale.\n",
    "\n",
    "# Only Standardization numerical columns \n",
    "cols_to_standardize =['Temperature(F)', 'Humidity(%)', 'Pressure(in)',\n",
    "                'Visibility(mi)', 'Wind_Speed(mph)','Wind_Chill(F)', 'Precipitation(in)', 'Hour']\n",
    "\n",
    "# Standardize numerical columns\n",
    "scaler = StandardScaler()\n",
    "scaled_data = scaler.fit_transform(filtered_df[cols_to_standardize])\n",
    "\n",
    "#  Save it for later inference\n",
    "joblib.dump(scaler, \"../models/scaler.pkl\")\n",
    "\n",
    "# Make it back to a df\n",
    "scaled_df = pd.DataFrame(scaled_data, columns=cols_to_standardize)\n",
    "\n",
    "# Combine Standardize numerical df with Categorical df\n",
    "standardize_df = pd.concat([scaled_df, filtered_df.drop(columns=cols_to_standardize).reset_index(drop=True)], axis=1)\n",
    "\n",
    "# Testing Flag\n",
    "print(standardize_df.shape)\n",
    "standardize_df.head(5)"
   ],
   "outputs": [
    {
     "name": "stdout",
     "output_type": "stream",
     "text": [
      "(957018, 119)\n"
     ]
    },
    {
     "data": {
      "text/plain": [
       "   Temperature(F)  Humidity(%)  Pressure(in)  Visibility(mi)  Wind_Speed(mph)  \\\n",
       "0       -0.550845     0.858503      0.567098        0.458452         0.585018   \n",
       "1       -0.691593     0.981650      0.595415        0.458452        -0.052710   \n",
       "2       -0.239718     0.324863      0.680366        0.458452         1.016422   \n",
       "3        0.782557    -0.537171      0.666208        0.458452         0.378694   \n",
       "4        0.782557    -0.537171      0.666208        0.458452         0.378694   \n",
       "\n",
       "   Wind_Chill(F)  Precipitation(in)      Hour  Severity Zipcode  ...  \\\n",
       "0      -0.030753          -0.157538  1.813135         3   94534  ...   \n",
       "1      -0.030753          -0.157538 -1.598400         3   94534  ...   \n",
       "2      -0.030753          -0.157538 -0.404363         3   94541  ...   \n",
       "3      -0.030753          -0.157538 -0.233786         2   94555  ...   \n",
       "4      -0.030753          -0.157538 -0.233786         3   94545  ...   \n",
       "\n",
       "   Zipcode_Group_946  Zipcode_Group_950  Zipcode_Group_951  Zipcode_Group_952  \\\n",
       "0                  0                  0                  0                  0   \n",
       "1                  0                  0                  0                  0   \n",
       "2                  0                  0                  0                  0   \n",
       "3                  0                  0                  0                  0   \n",
       "4                  0                  0                  0                  0   \n",
       "\n",
       "   Zipcode_Group_953  Zipcode_Group_954  Zipcode_Group_956  Zipcode_Group_958  \\\n",
       "0                  0                  0                  0                  0   \n",
       "1                  0                  0                  0                  0   \n",
       "2                  0                  0                  0                  0   \n",
       "3                  0                  0                  0                  0   \n",
       "4                  0                  0                  0                  0   \n",
       "\n",
       "   Zipcode_Group_959  Zipcode_Group_Other  \n",
       "0                  0                    0  \n",
       "1                  0                    0  \n",
       "2                  0                    0  \n",
       "3                  0                    0  \n",
       "4                  0                    0  \n",
       "\n",
       "[5 rows x 119 columns]"
      ],
      "text/html": [
       "<div>\n",
       "<style scoped>\n",
       "    .dataframe tbody tr th:only-of-type {\n",
       "        vertical-align: middle;\n",
       "    }\n",
       "\n",
       "    .dataframe tbody tr th {\n",
       "        vertical-align: top;\n",
       "    }\n",
       "\n",
       "    .dataframe thead th {\n",
       "        text-align: right;\n",
       "    }\n",
       "</style>\n",
       "<table border=\"1\" class=\"dataframe\">\n",
       "  <thead>\n",
       "    <tr style=\"text-align: right;\">\n",
       "      <th></th>\n",
       "      <th>Temperature(F)</th>\n",
       "      <th>Humidity(%)</th>\n",
       "      <th>Pressure(in)</th>\n",
       "      <th>Visibility(mi)</th>\n",
       "      <th>Wind_Speed(mph)</th>\n",
       "      <th>Wind_Chill(F)</th>\n",
       "      <th>Precipitation(in)</th>\n",
       "      <th>Hour</th>\n",
       "      <th>Severity</th>\n",
       "      <th>Zipcode</th>\n",
       "      <th>...</th>\n",
       "      <th>Zipcode_Group_946</th>\n",
       "      <th>Zipcode_Group_950</th>\n",
       "      <th>Zipcode_Group_951</th>\n",
       "      <th>Zipcode_Group_952</th>\n",
       "      <th>Zipcode_Group_953</th>\n",
       "      <th>Zipcode_Group_954</th>\n",
       "      <th>Zipcode_Group_956</th>\n",
       "      <th>Zipcode_Group_958</th>\n",
       "      <th>Zipcode_Group_959</th>\n",
       "      <th>Zipcode_Group_Other</th>\n",
       "    </tr>\n",
       "  </thead>\n",
       "  <tbody>\n",
       "    <tr>\n",
       "      <th>0</th>\n",
       "      <td>-0.550845</td>\n",
       "      <td>0.858503</td>\n",
       "      <td>0.567098</td>\n",
       "      <td>0.458452</td>\n",
       "      <td>0.585018</td>\n",
       "      <td>-0.030753</td>\n",
       "      <td>-0.157538</td>\n",
       "      <td>1.813135</td>\n",
       "      <td>3</td>\n",
       "      <td>94534</td>\n",
       "      <td>...</td>\n",
       "      <td>0</td>\n",
       "      <td>0</td>\n",
       "      <td>0</td>\n",
       "      <td>0</td>\n",
       "      <td>0</td>\n",
       "      <td>0</td>\n",
       "      <td>0</td>\n",
       "      <td>0</td>\n",
       "      <td>0</td>\n",
       "      <td>0</td>\n",
       "    </tr>\n",
       "    <tr>\n",
       "      <th>1</th>\n",
       "      <td>-0.691593</td>\n",
       "      <td>0.981650</td>\n",
       "      <td>0.595415</td>\n",
       "      <td>0.458452</td>\n",
       "      <td>-0.052710</td>\n",
       "      <td>-0.030753</td>\n",
       "      <td>-0.157538</td>\n",
       "      <td>-1.598400</td>\n",
       "      <td>3</td>\n",
       "      <td>94534</td>\n",
       "      <td>...</td>\n",
       "      <td>0</td>\n",
       "      <td>0</td>\n",
       "      <td>0</td>\n",
       "      <td>0</td>\n",
       "      <td>0</td>\n",
       "      <td>0</td>\n",
       "      <td>0</td>\n",
       "      <td>0</td>\n",
       "      <td>0</td>\n",
       "      <td>0</td>\n",
       "    </tr>\n",
       "    <tr>\n",
       "      <th>2</th>\n",
       "      <td>-0.239718</td>\n",
       "      <td>0.324863</td>\n",
       "      <td>0.680366</td>\n",
       "      <td>0.458452</td>\n",
       "      <td>1.016422</td>\n",
       "      <td>-0.030753</td>\n",
       "      <td>-0.157538</td>\n",
       "      <td>-0.404363</td>\n",
       "      <td>3</td>\n",
       "      <td>94541</td>\n",
       "      <td>...</td>\n",
       "      <td>0</td>\n",
       "      <td>0</td>\n",
       "      <td>0</td>\n",
       "      <td>0</td>\n",
       "      <td>0</td>\n",
       "      <td>0</td>\n",
       "      <td>0</td>\n",
       "      <td>0</td>\n",
       "      <td>0</td>\n",
       "      <td>0</td>\n",
       "    </tr>\n",
       "    <tr>\n",
       "      <th>3</th>\n",
       "      <td>0.782557</td>\n",
       "      <td>-0.537171</td>\n",
       "      <td>0.666208</td>\n",
       "      <td>0.458452</td>\n",
       "      <td>0.378694</td>\n",
       "      <td>-0.030753</td>\n",
       "      <td>-0.157538</td>\n",
       "      <td>-0.233786</td>\n",
       "      <td>2</td>\n",
       "      <td>94555</td>\n",
       "      <td>...</td>\n",
       "      <td>0</td>\n",
       "      <td>0</td>\n",
       "      <td>0</td>\n",
       "      <td>0</td>\n",
       "      <td>0</td>\n",
       "      <td>0</td>\n",
       "      <td>0</td>\n",
       "      <td>0</td>\n",
       "      <td>0</td>\n",
       "      <td>0</td>\n",
       "    </tr>\n",
       "    <tr>\n",
       "      <th>4</th>\n",
       "      <td>0.782557</td>\n",
       "      <td>-0.537171</td>\n",
       "      <td>0.666208</td>\n",
       "      <td>0.458452</td>\n",
       "      <td>0.378694</td>\n",
       "      <td>-0.030753</td>\n",
       "      <td>-0.157538</td>\n",
       "      <td>-0.233786</td>\n",
       "      <td>3</td>\n",
       "      <td>94545</td>\n",
       "      <td>...</td>\n",
       "      <td>0</td>\n",
       "      <td>0</td>\n",
       "      <td>0</td>\n",
       "      <td>0</td>\n",
       "      <td>0</td>\n",
       "      <td>0</td>\n",
       "      <td>0</td>\n",
       "      <td>0</td>\n",
       "      <td>0</td>\n",
       "      <td>0</td>\n",
       "    </tr>\n",
       "  </tbody>\n",
       "</table>\n",
       "<p>5 rows × 119 columns</p>\n",
       "</div>"
      ]
     },
     "execution_count": 28,
     "metadata": {},
     "output_type": "execute_result"
    }
   ],
   "execution_count": 28
  },
  {
   "cell_type": "markdown",
   "id": "e191ab2c-2182-4a0b-bba1-635774332e18",
   "metadata": {},
   "source": [
    "# Clustering "
   ]
  },
  {
   "cell_type": "code",
   "id": "a535f4e4-7dc5-4218-b92f-16f1693609b7",
   "metadata": {
    "tags": [],
    "ExecuteTime": {
     "end_time": "2025-08-04T13:42:58.028443Z",
     "start_time": "2025-08-04T13:42:28.381268Z"
    }
   },
   "source": [
    "#Import All Dependencies \n",
    "from sklearn.cluster import KMeans\n",
    "from sklearn.metrics import silhouette_score\n",
    "\n",
    "\n",
    "# Elbow Method to decide number of Cluster\n",
    "# sse - Sum of Squared errors\n",
    "sse = []\n",
    "for k in range(2, 10):\n",
    "    km = KMeans(n_clusters=k, random_state=42)\n",
    "    km.fit(standardize_df.drop(\"Severity\", axis=1))\n",
    "    sse.append(km.inertia_)\n",
    "\n",
    "plt.plot(range(2, 10), sse, marker='o')\n",
    "plt.xlabel(\"Number of Clusters\")\n",
    "plt.ylabel(\"SSE\")\n",
    "plt.title(\"Elbow Method for Optimal number of clusters\")\n",
    "plt.grid(True)\n",
    "plt.show()"
   ],
   "outputs": [
    {
     "data": {
      "text/plain": [
       "<Figure size 640x480 with 1 Axes>"
      ],
      "image/png": "[encoded data removed]"
     },
     "metadata": {},
     "output_type": "display_data"
    }
   ],
   "execution_count": 29
  },
  {
   "cell_type": "code",
   "id": "6fcf3171-591d-412f-a968-ce9c21fa9eb0",
   "metadata": {
    "tags": [],
    "ExecuteTime": {
     "end_time": "2025-08-04T13:43:02.188390Z",
     "start_time": "2025-08-04T13:42:58.064464Z"
    }
   },
   "source": [
    "# Clustering into three clusters using  KMeans\n",
    "standardize_df = standardize_df.copy() \n",
    "km = KMeans(n_clusters=3)\n",
    "standardize_df['Cluster'] = km.fit_predict(standardize_df.drop(\"Severity\",axis =1))\n",
    "print(standardize_df['Cluster'].value_counts())\n",
    "\n",
    "# Evaluating the quality of clusters  \n",
    "sample_df = standardize_df.sample(n=10000, random_state=42)\n",
    "score = silhouette_score(sample_df.drop(columns='Cluster'), sample_df['Cluster'])\n",
    "print(f\"Silhouette Score: {score:.3f}\")\n"
   ],
   "outputs": [
    {
     "name": "stdout",
     "output_type": "stream",
     "text": [
      "Cluster\n",
      "2    386700\n",
      "1    349418\n",
      "0    220900\n",
      "Name: count, dtype: int64\n",
      "Silhouette Score: 0.644\n"
     ]
    }
   ],
   "execution_count": 30
  },
  {
   "cell_type": "code",
   "id": "a278c3b2-dc00-4eb7-801c-4e674809a52d",
   "metadata": {
    "tags": [],
    "ExecuteTime": {
     "end_time": "2025-08-04T13:47:16.820029Z",
     "start_time": "2025-08-04T13:47:16.817523Z"
    }
   },
   "source": [
    "# Deciding what cluster should be low,medium,high risk \n",
    "#print(\"Severity\")\n",
    "#print(standardize_df.groupby('Cluster')['Severity'].mean())\n",
    "#print(\"\\n Accident Duration\")\n",
    "#print(standardize_df.groupby('Cluster')['Duration_minutes'].mean())\n",
    "#print(\"\\n  Accident Density\")\n",
    "#print(standardize_df.groupby('Cluster')['accident_density'].mean())\n",
    "\n",
    "# Cluster 1 - High Risk\n",
    "# Cluster 0 - Medium Risk\n",
    "# CLuster 2 - Low Risk"
   ],
   "outputs": [],
   "execution_count": 32
  },
  {
   "cell_type": "markdown",
   "id": "5a0b2278-22e4-4035-8e75-9cdb7abcf4db",
   "metadata": {},
   "source": [
    "# Sampling"
   ]
  },
  {
   "cell_type": "code",
   "id": "93243fda-0a14-463b-93c3-133eee054f7e",
   "metadata": {
    "tags": [],
    "ExecuteTime": {
     "end_time": "2025-08-04T13:48:35.236620Z",
     "start_time": "2025-08-04T13:47:22.993401Z"
    }
   },
   "source": [
    "# Import SMOTE\n",
    "from  imblearn.over_sampling import SMOTE,  ADASYN\n",
    "\n",
    "# Oversample since the dataset is unbalanced\n",
    "# Defining X and y \n",
    "X = standardize_df.drop(\"Cluster\",axis =1)\n",
    "y =standardize_df[\"Cluster\"]\n",
    "\n",
    "sampler = SMOTE(random_state=42)\n",
    "X_resampled, y_resampled = sampler.fit_resample(X, y)\n",
    "\n",
    "X_resampled_df = pd.DataFrame(X_resampled, columns=X.columns)\n",
    "y_resampled_df = pd.Series(y_resampled, name ='Cluster')\n",
    "    \n",
    "final_df = pd.concat([X_resampled_df,y_resampled_df],axis=1)\n",
    "\n",
    "print(final_df['Cluster'].value_counts())\n",
    "\n",
    "\n",
    "# Evaluating the quality of clusters  \n",
    "sample_df = final_df.sample(n=10000, random_state=42)\n",
    "score = silhouette_score(sample_df.drop(columns='Cluster'), sample_df['Cluster'])\n",
    "print(f\"Silhouette Score: {score:.3f}\")\n",
    "final_df.shape"
   ],
   "outputs": [
    {
     "name": "stdout",
     "output_type": "stream",
     "text": [
      "Cluster\n",
      "1    386700\n",
      "2    386700\n",
      "0    386700\n",
      "Name: count, dtype: int64\n",
      "Silhouette Score: 0.649\n"
     ]
    },
    {
     "data": {
      "text/plain": [
       "(1160100, 120)"
      ]
     },
     "execution_count": 33,
     "metadata": {},
     "output_type": "execute_result"
    }
   ],
   "execution_count": 33
  },
  {
   "cell_type": "code",
   "id": "17676964-1180-41fc-aaeb-08b13b21ea3f",
   "metadata": {
    "tags": [],
    "ExecuteTime": {
     "end_time": "2025-08-04T13:49:19.310772Z",
     "start_time": "2025-08-04T13:49:19.304322Z"
    }
   },
   "source": [
    "final_df.head(3)"
   ],
   "outputs": [
    {
     "data": {
      "text/plain": [
       "   Temperature(F)  Humidity(%)  Pressure(in)  Visibility(mi)  Wind_Speed(mph)  \\\n",
       "0       -0.550845     0.858503      0.567098        0.458452         0.585018   \n",
       "1       -0.691593     0.981650      0.595415        0.458452        -0.052710   \n",
       "2       -0.239718     0.324863      0.680366        0.458452         1.016422   \n",
       "\n",
       "   Wind_Chill(F)  Precipitation(in)      Hour  Severity  Zipcode  ...  \\\n",
       "0      -0.030753          -0.157538  1.813135         3  94534.0  ...   \n",
       "1      -0.030753          -0.157538 -1.598400         3  94534.0  ...   \n",
       "2      -0.030753          -0.157538 -0.404363         3  94541.0  ...   \n",
       "\n",
       "   Zipcode_Group_950  Zipcode_Group_951  Zipcode_Group_952  Zipcode_Group_953  \\\n",
       "0                  0                  0                  0                  0   \n",
       "1                  0                  0                  0                  0   \n",
       "2                  0                  0                  0                  0   \n",
       "\n",
       "   Zipcode_Group_954  Zipcode_Group_956  Zipcode_Group_958  Zipcode_Group_959  \\\n",
       "0                  0                  0                  0                  0   \n",
       "1                  0                  0                  0                  0   \n",
       "2                  0                  0                  0                  0   \n",
       "\n",
       "   Zipcode_Group_Other  Cluster  \n",
       "0                    0        1  \n",
       "1                    0        1  \n",
       "2                    0        1  \n",
       "\n",
       "[3 rows x 120 columns]"
      ],
      "text/html": [
       "<div>\n",
       "<style scoped>\n",
       "    .dataframe tbody tr th:only-of-type {\n",
       "        vertical-align: middle;\n",
       "    }\n",
       "\n",
       "    .dataframe tbody tr th {\n",
       "        vertical-align: top;\n",
       "    }\n",
       "\n",
       "    .dataframe thead th {\n",
       "        text-align: right;\n",
       "    }\n",
       "</style>\n",
       "<table border=\"1\" class=\"dataframe\">\n",
       "  <thead>\n",
       "    <tr style=\"text-align: right;\">\n",
       "      <th></th>\n",
       "      <th>Temperature(F)</th>\n",
       "      <th>Humidity(%)</th>\n",
       "      <th>Pressure(in)</th>\n",
       "      <th>Visibility(mi)</th>\n",
       "      <th>Wind_Speed(mph)</th>\n",
       "      <th>Wind_Chill(F)</th>\n",
       "      <th>Precipitation(in)</th>\n",
       "      <th>Hour</th>\n",
       "      <th>Severity</th>\n",
       "      <th>Zipcode</th>\n",
       "      <th>...</th>\n",
       "      <th>Zipcode_Group_950</th>\n",
       "      <th>Zipcode_Group_951</th>\n",
       "      <th>Zipcode_Group_952</th>\n",
       "      <th>Zipcode_Group_953</th>\n",
       "      <th>Zipcode_Group_954</th>\n",
       "      <th>Zipcode_Group_956</th>\n",
       "      <th>Zipcode_Group_958</th>\n",
       "      <th>Zipcode_Group_959</th>\n",
       "      <th>Zipcode_Group_Other</th>\n",
       "      <th>Cluster</th>\n",
       "    </tr>\n",
       "  </thead>\n",
       "  <tbody>\n",
       "    <tr>\n",
       "      <th>0</th>\n",
       "      <td>-0.550845</td>\n",
       "      <td>0.858503</td>\n",
       "      <td>0.567098</td>\n",
       "      <td>0.458452</td>\n",
       "      <td>0.585018</td>\n",
       "      <td>-0.030753</td>\n",
       "      <td>-0.157538</td>\n",
       "      <td>1.813135</td>\n",
       "      <td>3</td>\n",
       "      <td>94534.0</td>\n",
       "      <td>...</td>\n",
       "      <td>0</td>\n",
       "      <td>0</td>\n",
       "      <td>0</td>\n",
       "      <td>0</td>\n",
       "      <td>0</td>\n",
       "      <td>0</td>\n",
       "      <td>0</td>\n",
       "      <td>0</td>\n",
       "      <td>0</td>\n",
       "      <td>1</td>\n",
       "    </tr>\n",
       "    <tr>\n",
       "      <th>1</th>\n",
       "      <td>-0.691593</td>\n",
       "      <td>0.981650</td>\n",
       "      <td>0.595415</td>\n",
       "      <td>0.458452</td>\n",
       "      <td>-0.052710</td>\n",
       "      <td>-0.030753</td>\n",
       "      <td>-0.157538</td>\n",
       "      <td>-1.598400</td>\n",
       "      <td>3</td>\n",
       "      <td>94534.0</td>\n",
       "      <td>...</td>\n",
       "      <td>0</td>\n",
       "      <td>0</td>\n",
       "      <td>0</td>\n",
       "      <td>0</td>\n",
       "      <td>0</td>\n",
       "      <td>0</td>\n",
       "      <td>0</td>\n",
       "      <td>0</td>\n",
       "      <td>0</td>\n",
       "      <td>1</td>\n",
       "    </tr>\n",
       "    <tr>\n",
       "      <th>2</th>\n",
       "      <td>-0.239718</td>\n",
       "      <td>0.324863</td>\n",
       "      <td>0.680366</td>\n",
       "      <td>0.458452</td>\n",
       "      <td>1.016422</td>\n",
       "      <td>-0.030753</td>\n",
       "      <td>-0.157538</td>\n",
       "      <td>-0.404363</td>\n",
       "      <td>3</td>\n",
       "      <td>94541.0</td>\n",
       "      <td>...</td>\n",
       "      <td>0</td>\n",
       "      <td>0</td>\n",
       "      <td>0</td>\n",
       "      <td>0</td>\n",
       "      <td>0</td>\n",
       "      <td>0</td>\n",
       "      <td>0</td>\n",
       "      <td>0</td>\n",
       "      <td>0</td>\n",
       "      <td>1</td>\n",
       "    </tr>\n",
       "  </tbody>\n",
       "</table>\n",
       "<p>3 rows × 120 columns</p>\n",
       "</div>"
      ]
     },
     "execution_count": 34,
     "metadata": {},
     "output_type": "execute_result"
    }
   ],
   "execution_count": 34
  },
  {
   "cell_type": "code",
   "id": "2ca5e330-686c-491c-afcb-cd416bcd8418",
   "metadata": {
    "tags": [],
    "ExecuteTime": {
     "end_time": "2025-08-04T13:49:33.315659Z",
     "start_time": "2025-08-04T13:49:22.299797Z"
    }
   },
   "source": [
    "# Storing Data for Training\n",
    "final_df.to_csv(\"../data/TripSafe_cleaned_Data.csv\")\n",
    "\n",
    "# Save 100K samples\n",
    "subset_TripSafe_cleaned_Data =final_df.sample(n = 100000, random_state =42)\n",
    "subset_TripSafe_cleaned_Data.to_csv(\"../data/sample_TripSafe_cleaned_Data.csv\")"
   ],
   "outputs": [],
   "execution_count": 35
  },
  {
   "metadata": {},
   "cell_type": "code",
   "outputs": [],
   "execution_count": null,
   "source": "",
   "id": "fe967f646df9d119"
  }
 ],
 "metadata": {
  "environment": {
   "kernel": "python3",
   "name": "tf2-gpu.2-17.m128",
   "type": "gcloud",
   "uri": "us-docker.pkg.dev/deeplearning-platform-release/gcr.io/tf2-gpu.2-17:m128"
  },
  "kernelspec": {
   "display_name": "Python 3",
   "language": "python",
   "name": "python3"
  },
  "language_info": {
   "codemirror_mode": {
    "name": "ipython",
    "version": 3
   },
   "file_extension": ".py",
   "mimetype": "text/x-python",
   "name": "python",
   "nbconvert_exporter": "python",
   "pygments_lexer": "ipython3",
   "version": "3.10.16"
  }
 },
 "nbformat": 4,
 "nbformat_minor": 5
}
