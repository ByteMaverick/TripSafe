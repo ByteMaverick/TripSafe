{
 "cells": [
  {
   "metadata": {
    "ExecuteTime": {
     "end_time": "2025-08-04T13:55:36.917371Z",
     "start_time": "2025-08-04T13:55:36.684148Z"
    }
   },
   "cell_type": "code",
   "source": [
    "from backend.src.input_processing.date_data_extraction import DataExtractor\n",
    "f = DataExtractor()\n",
    "\n",
    "d =DataExtractor()\n",
    "k =d.get_transformed_data_v1(\"08/04/2025, 03:34\",\"san Jose\",\"santa clara\",\"95377\")\n",
    "\n",
    "k\n",
    "\n",
    "\n",
    "\n",
    "\n"
   ],
   "id": "c8d343dc3a23180a",
   "outputs": [
    {
     "name": "stdout",
     "output_type": "stream",
     "text": [
      "(1, 78)\n"
     ]
    },
    {
     "data": {
      "text/plain": [
       "array([[ 1.44020859, -2.80572995,  0.50242963, -0.75142855,  0.96899711,\n",
       "        -0.76580748,  1.15973417,  0.23099606,  0.05312002, -0.05594495,\n",
       "        -0.44412661, -0.54467354,  0.10762743, -0.00335709,  0.03096319,\n",
       "        -0.09785111, -0.01068048,  0.02662238, -0.16336684,  0.17297668,\n",
       "        -0.31830198,  0.17944857, -0.08162294, -0.10676247,  0.59478867,\n",
       "        -0.40614046,  0.02673223]])"
      ]
     },
     "execution_count": 1,
     "metadata": {},
     "output_type": "execute_result"
    }
   ],
   "execution_count": 1
  },
  {
   "cell_type": "code",
   "id": "initial_id",
   "metadata": {
    "collapsed": true,
    "ExecuteTime": {
     "end_time": "2025-08-04T13:32:11.687135Z",
     "start_time": "2025-08-04T13:32:08.504614Z"
    }
   },
   "source": [
    "import pandas as pd\n",
    "from torch.cuda import temperature\n",
    "\n",
    "raw_data = pd.read_csv(\"../data/CA_Accidents.csv\")\n",
    "\n",
    "raw_data.shape"
   ],
   "outputs": [
    {
     "ename": "KeyboardInterrupt",
     "evalue": "",
     "output_type": "error",
     "traceback": [
      "\u001B[31m---------------------------------------------------------------------------\u001B[39m",
      "\u001B[31mKeyboardInterrupt\u001B[39m                         Traceback (most recent call last)",
      "\u001B[36mCell\u001B[39m\u001B[36m \u001B[39m\u001B[32mIn[2]\u001B[39m\u001B[32m, line 4\u001B[39m\n\u001B[32m      1\u001B[39m \u001B[38;5;28;01mimport\u001B[39;00m\u001B[38;5;250m \u001B[39m\u001B[34;01mpandas\u001B[39;00m\u001B[38;5;250m \u001B[39m\u001B[38;5;28;01mas\u001B[39;00m\u001B[38;5;250m \u001B[39m\u001B[34;01mpd\u001B[39;00m\n\u001B[32m      2\u001B[39m \u001B[38;5;28;01mfrom\u001B[39;00m\u001B[38;5;250m \u001B[39m\u001B[34;01mtorch\u001B[39;00m\u001B[34;01m.\u001B[39;00m\u001B[34;01mcuda\u001B[39;00m\u001B[38;5;250m \u001B[39m\u001B[38;5;28;01mimport\u001B[39;00m temperature\n\u001B[32m----> \u001B[39m\u001B[32m4\u001B[39m raw_data = \u001B[43mpd\u001B[49m\u001B[43m.\u001B[49m\u001B[43mread_csv\u001B[49m\u001B[43m(\u001B[49m\u001B[33;43m\"\u001B[39;49m\u001B[33;43m../data/CA_Accidents.csv\u001B[39;49m\u001B[33;43m\"\u001B[39;49m\u001B[43m)\u001B[49m\n\u001B[32m      6\u001B[39m raw_data.shape\n",
      "\u001B[36mFile \u001B[39m\u001B[32m/Library/Frameworks/Python.framework/Versions/3.13/lib/python3.13/site-packages/pandas/io/parsers/readers.py:1026\u001B[39m, in \u001B[36mread_csv\u001B[39m\u001B[34m(filepath_or_buffer, sep, delimiter, header, names, index_col, usecols, dtype, engine, converters, true_values, false_values, skipinitialspace, skiprows, skipfooter, nrows, na_values, keep_default_na, na_filter, verbose, skip_blank_lines, parse_dates, infer_datetime_format, keep_date_col, date_parser, date_format, dayfirst, cache_dates, iterator, chunksize, compression, thousands, decimal, lineterminator, quotechar, quoting, doublequote, escapechar, comment, encoding, encoding_errors, dialect, on_bad_lines, delim_whitespace, low_memory, memory_map, float_precision, storage_options, dtype_backend)\u001B[39m\n\u001B[32m   1013\u001B[39m kwds_defaults = _refine_defaults_read(\n\u001B[32m   1014\u001B[39m     dialect,\n\u001B[32m   1015\u001B[39m     delimiter,\n\u001B[32m   (...)\u001B[39m\u001B[32m   1022\u001B[39m     dtype_backend=dtype_backend,\n\u001B[32m   1023\u001B[39m )\n\u001B[32m   1024\u001B[39m kwds.update(kwds_defaults)\n\u001B[32m-> \u001B[39m\u001B[32m1026\u001B[39m \u001B[38;5;28;01mreturn\u001B[39;00m \u001B[43m_read\u001B[49m\u001B[43m(\u001B[49m\u001B[43mfilepath_or_buffer\u001B[49m\u001B[43m,\u001B[49m\u001B[43m \u001B[49m\u001B[43mkwds\u001B[49m\u001B[43m)\u001B[49m\n",
      "\u001B[36mFile \u001B[39m\u001B[32m/Library/Frameworks/Python.framework/Versions/3.13/lib/python3.13/site-packages/pandas/io/parsers/readers.py:626\u001B[39m, in \u001B[36m_read\u001B[39m\u001B[34m(filepath_or_buffer, kwds)\u001B[39m\n\u001B[32m    623\u001B[39m     \u001B[38;5;28;01mreturn\u001B[39;00m parser\n\u001B[32m    625\u001B[39m \u001B[38;5;28;01mwith\u001B[39;00m parser:\n\u001B[32m--> \u001B[39m\u001B[32m626\u001B[39m     \u001B[38;5;28;01mreturn\u001B[39;00m \u001B[43mparser\u001B[49m\u001B[43m.\u001B[49m\u001B[43mread\u001B[49m\u001B[43m(\u001B[49m\u001B[43mnrows\u001B[49m\u001B[43m)\u001B[49m\n",
      "\u001B[36mFile \u001B[39m\u001B[32m/Library/Frameworks/Python.framework/Versions/3.13/lib/python3.13/site-packages/pandas/io/parsers/readers.py:1923\u001B[39m, in \u001B[36mTextFileReader.read\u001B[39m\u001B[34m(self, nrows)\u001B[39m\n\u001B[32m   1916\u001B[39m nrows = validate_integer(\u001B[33m\"\u001B[39m\u001B[33mnrows\u001B[39m\u001B[33m\"\u001B[39m, nrows)\n\u001B[32m   1917\u001B[39m \u001B[38;5;28;01mtry\u001B[39;00m:\n\u001B[32m   1918\u001B[39m     \u001B[38;5;66;03m# error: \"ParserBase\" has no attribute \"read\"\u001B[39;00m\n\u001B[32m   1919\u001B[39m     (\n\u001B[32m   1920\u001B[39m         index,\n\u001B[32m   1921\u001B[39m         columns,\n\u001B[32m   1922\u001B[39m         col_dict,\n\u001B[32m-> \u001B[39m\u001B[32m1923\u001B[39m     ) = \u001B[38;5;28;43mself\u001B[39;49m\u001B[43m.\u001B[49m\u001B[43m_engine\u001B[49m\u001B[43m.\u001B[49m\u001B[43mread\u001B[49m\u001B[43m(\u001B[49m\u001B[43m  \u001B[49m\u001B[38;5;66;43;03m# type: ignore[attr-defined]\u001B[39;49;00m\n\u001B[32m   1924\u001B[39m \u001B[43m        \u001B[49m\u001B[43mnrows\u001B[49m\n\u001B[32m   1925\u001B[39m \u001B[43m    \u001B[49m\u001B[43m)\u001B[49m\n\u001B[32m   1926\u001B[39m \u001B[38;5;28;01mexcept\u001B[39;00m \u001B[38;5;167;01mException\u001B[39;00m:\n\u001B[32m   1927\u001B[39m     \u001B[38;5;28mself\u001B[39m.close()\n",
      "\u001B[36mFile \u001B[39m\u001B[32m/Library/Frameworks/Python.framework/Versions/3.13/lib/python3.13/site-packages/pandas/io/parsers/c_parser_wrapper.py:234\u001B[39m, in \u001B[36mCParserWrapper.read\u001B[39m\u001B[34m(self, nrows)\u001B[39m\n\u001B[32m    232\u001B[39m \u001B[38;5;28;01mtry\u001B[39;00m:\n\u001B[32m    233\u001B[39m     \u001B[38;5;28;01mif\u001B[39;00m \u001B[38;5;28mself\u001B[39m.low_memory:\n\u001B[32m--> \u001B[39m\u001B[32m234\u001B[39m         chunks = \u001B[38;5;28;43mself\u001B[39;49m\u001B[43m.\u001B[49m\u001B[43m_reader\u001B[49m\u001B[43m.\u001B[49m\u001B[43mread_low_memory\u001B[49m\u001B[43m(\u001B[49m\u001B[43mnrows\u001B[49m\u001B[43m)\u001B[49m\n\u001B[32m    235\u001B[39m         \u001B[38;5;66;03m# destructive to chunks\u001B[39;00m\n\u001B[32m    236\u001B[39m         data = _concatenate_chunks(chunks)\n",
      "\u001B[36mFile \u001B[39m\u001B[32mparsers.pyx:838\u001B[39m, in \u001B[36mpandas._libs.parsers.TextReader.read_low_memory\u001B[39m\u001B[34m()\u001B[39m\n",
      "\u001B[36mFile \u001B[39m\u001B[32mparsers.pyx:905\u001B[39m, in \u001B[36mpandas._libs.parsers.TextReader._read_rows\u001B[39m\u001B[34m()\u001B[39m\n",
      "\u001B[36mFile \u001B[39m\u001B[32mparsers.pyx:874\u001B[39m, in \u001B[36mpandas._libs.parsers.TextReader._tokenize_rows\u001B[39m\u001B[34m()\u001B[39m\n",
      "\u001B[36mFile \u001B[39m\u001B[32mparsers.pyx:891\u001B[39m, in \u001B[36mpandas._libs.parsers.TextReader._check_tokenize_status\u001B[39m\u001B[34m()\u001B[39m\n",
      "\u001B[36mFile \u001B[39m\u001B[32mparsers.pyx:2053\u001B[39m, in \u001B[36mpandas._libs.parsers.raise_parser_error\u001B[39m\u001B[34m()\u001B[39m\n",
      "\u001B[36mFile \u001B[39m\u001B[32m<frozen codecs>:322\u001B[39m, in \u001B[36mdecode\u001B[39m\u001B[34m(self, input, final)\u001B[39m\n",
      "\u001B[31mKeyboardInterrupt\u001B[39m: "
     ]
    }
   ],
   "execution_count": 2
  },
  {
   "metadata": {},
   "cell_type": "code",
   "source": [
    "data = {'request': {'type': 'City', 'query': 'San Jose, United States of America', 'language': 'en', 'unit': 'f'}, 'location': {'name': 'San Jose', 'country': 'United States of America', 'region': 'California', 'lat': '37.339', 'lon': '-121.894', 'timezone_id': 'America/Los_Angeles', 'localtime': '2025-08-04 03:48', 'localtime_epoch': 1754279280, 'utc_offset': '-7.0'}, 'current': {'observation_time': '10:48 AM', 'temperature': 61, 'weather_code': 143, 'weather_icons': ['https://cdn.worldweatheronline.com/images/wsymbols01_png_64/wsymbol_0006_mist.png'], 'weather_descriptions': ['Mist'], 'astro': {'sunrise': '06:15 AM', 'sunset': '08:12 PM', 'moonrise': '05:11 PM', 'moonset': '01:25 AM', 'moon_phase': 'Waxing Gibbous', 'moon_illumination': 73}, 'air_quality': {'co': '288.6', 'no2': '6.29', 'o3': '55', 'so2': '3.145', 'pm2_5': '13.69', 'pm10': '18.685', 'us-epa-index': '1', 'gb-defra-index': '1'}, 'wind_speed': 2, 'wind_degree': 230, 'wind_dir': 'SW', 'pressure': 1017, 'precip': 0, 'humidity': 67, 'cloudcover': 0, 'feelslike': 61, 'uv_index': 0, 'visibility': 10, 'is_day': 'no'}}\n",
    "\n",
    "# Extracted from the \"current\" section\n",
    "current = data[\"current\"]\n",
    "\n",
    "# Weather features\n",
    "temperature_f = current[\"temperature\"]\n",
    "humidity_percent = current[\"humidity\"]\n",
    "pressure_in = round(current[\"pressure\"] * 0.02953, 2)        # hPa to inHg\n",
    "visibility_mi = current[\"visibility\"]\n",
    "wind_speed_mph = current[\"wind_speed\"]\n",
    "wind_chill_f = current[\"feelslike\"]\n",
    "precipitation_in = round(current[\"precip\"] * 0.03937, 2)      # mm to inches\n",
    "\n",
    "\n",
    "weather_data = {\n",
    "    \"Temperature(F)\": temperature_f,\n",
    "    \"Humidity(%)\": humidity_percent,\n",
    "    \"Pressure(in)\": pressure_in,\n",
    "    \"Visibility(mi)\": visibility_mi,\n",
    "    \"Wind_Speed(mph)\": wind_speed_mph,\n",
    "    \"Wind_Chill(F)\": wind_chill_f,\n",
    "    \"Precipitation(in)\": precipitation_in\n",
    "}\n",
    "\n",
    "print(weather_data)\n",
    "\n"
   ],
   "id": "a3a1fcd9367fb960",
   "outputs": [],
   "execution_count": null
  },
  {
   "metadata": {},
   "cell_type": "code",
   "source": [
    "# Library holidays allows us flag as holiday or not.\n",
    "import holidays\n",
    "import pandas as pd\n",
    "\n",
    "class DataExtractor:\n",
    "    def __init__(self):\n",
    "        self.us_holidays = holidays.US()\n",
    "        pass\n",
    "\n",
    "    def get_date_data(self, data):\n",
    "\n",
    "\n",
    "        # Step 1: Convert the string to datetime\n",
    "        dt = pd.to_datetime(data.strip(), format=\"%m/%d/%Y, %H:%M\")\n",
    "\n",
    "        # Step 2: Extract components\n",
    "        hour = dt.hour\n",
    "        day_of_week = dt.day_name()\n",
    "        month = dt.month_name()\n",
    "\n",
    "        # Step 3: Check if it's a holiday (US by default, or specify country)\n",
    "        us_holidays = holidays.US()\n",
    "        is_holiday = dt.date() in us_holidays\n",
    "\n",
    "        # Step 4: Define rush hour (e.g., 6–9 AM and 4–7 PM)\n",
    "        is_rush_hour = (6 <= hour <= 9) or (16 <= hour <= 19)\n",
    "\n",
    "        date_data = {\"day_of_week\":day_of_week,\"hour\":hour,\"month\":month,\"is_holiday\":is_holiday,\"is_rush_hour\":is_rush_hour}\n",
    "\n",
    "        return date_data\n",
    "\n",
    "    def get_weather_data(self):\n",
    "        import requests\n",
    "\n",
    "        api_key = \"e8596ef49660d3eebea854a77bca7faa\"\n",
    "        location = \"San Jose\"  # You can use city or \"City, Country\"\n",
    "\n",
    "        url = f\"http://api.weatherstack.com/current?access_key={api_key}&query={location}&units=f\"\n",
    "\n",
    "        response = requests.get(url)\n",
    "        data = response.json()\n",
    "\n",
    "        current = data[\"current\"]\n",
    "\n",
    "        # Weather features\n",
    "        temperature_f = current[\"temperature\"]\n",
    "        humidity_percent = current[\"humidity\"]\n",
    "        pressure_in = round(current[\"pressure\"] * 0.02953, 2)  # hPa to inHg\n",
    "        visibility_mi = current[\"visibility\"]\n",
    "        wind_speed_mph = current[\"wind_speed\"]\n",
    "        wind_chill_f = current[\"feelslike\"]\n",
    "        precipitation_in = round(current[\"precip\"] * 0.03937, 2)  # mm to inches\n",
    "\n",
    "        weather_data = {\n",
    "            \"Temperature(F)\": temperature_f,\n",
    "            \"Humidity(%)\": humidity_percent,\n",
    "            \"Pressure(in)\": pressure_in,\n",
    "            \"Visibility(mi)\": visibility_mi,\n",
    "            \"Wind_Speed(mph)\": wind_speed_mph,\n",
    "            \"Wind_Chill(F)\": wind_chill_f,\n",
    "            \"Precipitation(in)\": precipitation_in\n",
    "        }\n",
    "        return weather_data\n",
    "\n",
    "    def get_weather_data_dev(self):\n",
    "\n",
    "\n",
    "        data = {'request': {'type': 'City', 'query': 'San Jose, United States of America', 'language': 'en', 'unit': 'f'}, 'location': {'name': 'San Jose', 'country': 'United States of America', 'region': 'California', 'lat': '37.339', 'lon': '-121.894', 'timezone_id': 'America/Los_Angeles', 'localtime': '2025-08-04 03:48', 'localtime_epoch': 1754279280, 'utc_offset': '-7.0'}, 'current': {'observation_time': '10:48 AM', 'temperature': 61, 'weather_code': 143, 'weather_icons': ['https://cdn.worldweatheronline.com/images/wsymbols01_png_64/wsymbol_0006_mist.png'], 'weather_descriptions': ['Mist'], 'astro': {'sunrise': '06:15 AM', 'sunset': '08:12 PM', 'moonrise': '05:11 PM', 'moonset': '01:25 AM', 'moon_phase': 'Waxing Gibbous', 'moon_illumination': 73}, 'air_quality': {'co': '288.6', 'no2': '6.29', 'o3': '55', 'so2': '3.145', 'pm2_5': '13.69', 'pm10': '18.685', 'us-epa-index': '1', 'gb-defra-index': '1'}, 'wind_speed': 2, 'wind_degree': 230, 'wind_dir': 'SW', 'pressure': 1017, 'precip': 0, 'humidity': 67, 'cloudcover': 0, 'feelslike': 61, 'uv_index': 0, 'visibility': 10, 'is_day': 'no'}}\n",
    "\n",
    "        current = data[\"current\"]\n",
    "\n",
    "        # Weather features\n",
    "        temperature_f = current[\"temperature\"]\n",
    "        humidity_percent = current[\"humidity\"]\n",
    "        pressure_in = round(current[\"pressure\"] * 0.02953, 2)  # hPa to inHg\n",
    "        visibility_mi = current[\"visibility\"]\n",
    "        wind_speed_mph = current[\"wind_speed\"]\n",
    "        wind_chill_f = current[\"feelslike\"]\n",
    "        precipitation_in = round(current[\"precip\"] * 0.03937, 2)  # mm to inches\n",
    "\n",
    "        weather_data = {\n",
    "            \"Temperature(F)\": temperature_f,\n",
    "            \"Humidity(%)\": humidity_percent,\n",
    "            \"Pressure(in)\": pressure_in,\n",
    "            \"Visibility(mi)\": visibility_mi,\n",
    "            \"Wind_Speed(mph)\": wind_speed_mph,\n",
    "            \"Wind_Chill(F)\": wind_chill_f,\n",
    "            \"Precipitation(in)\": precipitation_in\n",
    "        }\n",
    "        return weather_data\n",
    "\n",
    "\n",
    "    def get_transformed_data(self, date_and_time, city, county,zipcode):\n",
    "\n",
    "        date_data = self.get_date_data(date_and_time)\n",
    "        weather_data = self.get_weather_data_dev()\n",
    "\n",
    "        data = {\n",
    "            'Temperature(F)': weather_data[\"Temperature(F)\"],\n",
    "            'Humidity(%)': weather_data[\"Humidity(%)\"],\n",
    "            'Pressure(in)': weather_data[\"Humidity(%)\"],\n",
    "            'Visibility(mi)':weather_data[\"Visibility(mi)\"],\n",
    "            'Wind_Speed(mph)':weather_data[\"Wind_Speed(mph)\"],\n",
    "            \"Wind_Chill(F)\": weather_data[],\n",
    "            \"Precipitation(in)\": weather_data[]\n",
    "\n",
    "        }\n",
    "\n",
    "\n",
    "d =DataExtractor()\n",
    "print(d.get_weather_data_dev())\n",
    "\n",
    "\n",
    "\n",
    "\n",
    "\n",
    "\n",
    "\n"
   ],
   "id": "70d3b4819ab0ec58",
   "outputs": [],
   "execution_count": null
  }
 ],
 "metadata": {
  "kernelspec": {
   "display_name": "Python 3",
   "language": "python",
   "name": "python3"
  },
  "language_info": {
   "codemirror_mode": {
    "name": "ipython",
    "version": 2
   },
   "file_extension": ".py",
   "mimetype": "text/x-python",
   "name": "python",
   "nbconvert_exporter": "python",
   "pygments_lexer": "ipython2",
   "version": "2.7.6"
  }
 },
 "nbformat": 4,
 "nbformat_minor": 5
}
